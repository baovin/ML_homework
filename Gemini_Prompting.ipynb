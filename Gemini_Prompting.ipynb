{
  "nbformat": 4,
  "nbformat_minor": 0,
  "metadata": {
    "colab": {
      "provenance": [],
      "include_colab_link": true
    },
    "kernelspec": {
      "name": "python3",
      "display_name": "Python 3"
    },
    "language_info": {
      "name": "python"
    }
  },
  "cells": [
    {
      "cell_type": "markdown",
      "metadata": {
        "id": "view-in-github",
        "colab_type": "text"
      },
      "source": [
        "<a href=\"https://colab.research.google.com/github/baovin/ML_homework/blob/main/Gemini_Prompting.ipynb\" target=\"_parent\"><img src=\"https://colab.research.google.com/assets/colab-badge.svg\" alt=\"Open In Colab\"/></a>"
      ]
    },
    {
      "cell_type": "markdown",
      "source": [
        "# LẬP TRÌNH VỚI GEMINI API"
      ],
      "metadata": {
        "id": "xv3rIRwI7T0M"
      }
    },
    {
      "cell_type": "markdown",
      "source": [
        "## 1. Thử nghiệm đầu tiên với API key"
      ],
      "metadata": {
        "id": "igsE261F7ZZJ"
      }
    },
    {
      "cell_type": "code",
      "execution_count": null,
      "metadata": {
        "id": "Ct8y2R2j0fjn",
        "colab": {
          "base_uri": "https://localhost:8080/",
          "height": 384
        },
        "outputId": "77e9af68-08d9-429a-80c5-7082278f3bc0"
      },
      "outputs": [
        {
          "output_type": "stream",
          "name": "stdout",
          "text": [
            "The dusty attic smelled of mothballs and forgotten dreams. Ten-year-old Finn, with a flashlight in hand, carefully navigated the labyrinth of stacked boxes and cobweb-draped furniture. He was searching for something his grandmother had mentioned in a letter, a \"magic backpack.\"\n",
            "\n",
            "His grandmother had passed away a year ago, leaving behind a house filled with secrets and a trove of stories whispered in the rustle of old photographs. He found the backpack tucked away in a forgotten corner, nestled between a chipped porcelain doll and a dusty chess set. It was plain, brown leather, its straps worn and frayed, but something about it felt…different.\n",
            "\n",
            "As Finn unzipped the bag, a plume of iridescent dust erupted, swirling around him before settling like glitter on the attic floor. He gasped, feeling a tingling sensation crawl up his arm. Inside the backpack, he found a worn, leather-bound notebook filled with cryptic symbols and swirling script. Below it, nestled in a velvet pouch, was a tarnished silver key.\n",
            "\n",
            "Driven by a strange pull, Finn brought the key to the notebook and watched in awe as it unlocked the pages, revealing maps and diagrams of fantastical lands, spells written in a language he didn't understand, and breathtaking illustrations of mythical creatures.\n",
            "\n",
            "Suddenly, the attic door creaked open and Finn's father, a gruff man with tired eyes, walked in. He looked at Finn with a mixture of amusement and exasperation. \"Still rummaging through your grandmother's junk? Come on, it's time for dinner.\"\n",
            "\n",
            "Finn hesitated, clutching the notebook and key. \"Dad, I think I found something special.\"\n",
            "\n",
            "He showed his father the backpack and the notebook. His father, however, just scoffed. \"Just some old trinkets, Finn. Your grandmother was a bit of a dreamer.\"\n",
            "\n",
            "Undeterred, Finn slipped the key into a small lock hidden on the backpack's strap. With a click, the backpack glowed, and a portal, shimmering like a mirage, appeared in the center of the attic. It was a doorway to a world of his grandmother's dreams, filled with talking animals, floating castles, and shimmering rivers of stardust.\n",
            "\n",
            "Finn, with a mix of excitement and trepidation, stepped through the portal, leaving the attic and his skeptical father behind. He knew, with a certainty that resonated in his heart, that his grandmother's stories were real, and the magic backpack was the key to a world beyond his wildest imaginings. \n",
            "\n",
            "As he stepped into the fantastical world, he knew this wasn't just an adventure, it was a journey of discovery, a way to honor his grandmother's legacy and unlock the secrets of his own imagination. The backpack wasn't just a bag, it was a portal to a world of magic, a world where dreams could come alive, and where he was ready to embark on a journey unlike any other. \n",
            "\n"
          ]
        }
      ],
      "source": [
        "import os\n",
        "import google.generativeai as genai\n",
        "from google.colab import userdata\n",
        "\n",
        "# Access your API key as an environment variable.\n",
        "genai.configure(api_key=userdata.get('API_KEY'))\n",
        "# Choose a model that's appropriate for your use case.\n",
        "model = genai.GenerativeModel('gemini-1.5-flash')\n",
        "\n",
        "prompt = \"Write a story about a magic backpack.\"\n",
        "\n",
        "response = model.generate_content(prompt)\n",
        "\n",
        "print(response.text)"
      ]
    },
    {
      "cell_type": "markdown",
      "source": [
        "## 2. Thử với tiếng Việt"
      ],
      "metadata": {
        "id": "4IRmG6cu7SPs"
      }
    },
    {
      "cell_type": "markdown",
      "source": [
        "Gemini làm việc tốt nhất trên tiếng Anh, tuy nhiên tiếng Việt cũng rất tốt."
      ],
      "metadata": {
        "id": "zGJUQL8B7qux"
      }
    },
    {
      "cell_type": "code",
      "source": [
        "model = genai.GenerativeModel('gemini-pro')\n",
        "\n",
        "prompt = \"Hãy dịch đoạn văn sau sang tiếng Anh: Ba chú kiến bò trên đường gặp một con sâu đang bơi lội.\"\n",
        "\n",
        "response = model.generate_content(prompt)\n",
        "\n",
        "print(response.text)"
      ],
      "metadata": {
        "colab": {
          "base_uri": "https://localhost:8080/",
          "height": 34
        },
        "id": "mYS1xy8u7RxL",
        "outputId": "4510d039-3654-4798-acc3-f749b8b9c551"
      },
      "execution_count": null,
      "outputs": [
        {
          "output_type": "stream",
          "name": "stdout",
          "text": [
            "Three ants were marching down a road when they encountered a worm that was swimming.\n"
          ]
        }
      ]
    },
    {
      "cell_type": "code",
      "source": [
        "prompt = \"\"\"\n",
        "Hãy sửa lỗi chính tả, lỗi thường gặp khi phát âm tiếng Việt: một cô gái váy ngán cũng cỡn chạy lên hỏa\n",
        "\"\"\"\n",
        "response = model.generate_content(prompt)\n",
        "\n",
        "print(response.text)"
      ],
      "metadata": {
        "colab": {
          "base_uri": "https://localhost:8080/",
          "height": 34
        },
        "id": "XjhQ-yRBISig",
        "outputId": "045142df-4bb5-4b92-8e7b-7543d8bb9cfc"
      },
      "execution_count": null,
      "outputs": [
        {
          "output_type": "stream",
          "name": "stdout",
          "text": [
            "Một cô gái váy ngắn cũng giật mình chạy lên hoảng\n"
          ]
        }
      ]
    },
    {
      "cell_type": "code",
      "source": [
        "prompt = \"\"\"\n",
        "Sửa lỗi chính tả do phiên âm tiếng Việt. Hạn chế sửa từ đồng nghĩa và thay đổi ít ký tự nhất có thể. Dưới đây là một số ví dụ.\n",
        "\n",
        "bà con chồm sớm: bà con chòm xóm\n",
        "và tôi thấy hoa vắng thỏ và ngươm: và tôi thấy hoa vạn thọ vàng ươm\n",
        "oi dào: ôi dào\n",
        "thế nhưng tui hồng ân hận thì trở hành đã nữ: thế nhưng tôi không ân hận khi trở thành đả nữ\n",
        "thịt ngọt lừi lại mang trùng sáng ngây bệnh: \"\"\"\n",
        "response = model.generate_content(prompt)\n",
        "\n",
        "print(response.text)"
      ],
      "metadata": {
        "colab": {
          "base_uri": "https://localhost:8080/",
          "height": 34
        },
        "id": "p7Xf9i4BJW3f",
        "outputId": "dc15bc9b-feea-41e0-d720-a9d6c3db39c7"
      },
      "execution_count": null,
      "outputs": [
        {
          "output_type": "stream",
          "name": "stdout",
          "text": [
            "thịt ngọt lừ lại mang trùng sang ngây bệnh\n"
          ]
        }
      ]
    },
    {
      "cell_type": "code",
      "source": [
        "prompt = \"\"\"\n",
        "Input: thu chạm ngỏ rất hiền\n",
        "Từ sai chính tả: chạm ngỏ\n",
        "Từ đúng chính tả: chạm ngõ\n",
        "Output: thu chạm ngõ rất hiền\n",
        "\n",
        "Input: rồi mặc dù biết là ngớ ngận tôi cứ nói ra\n",
        "Từ sai lỗi chính tả: ngớ ngận\n",
        "Từ đúng chính tả: ngỡ ngẩn\n",
        "Output: rồi mặc dù biết là ngớ ngẩn tôi cứ nói ra\n",
        "\n",
        "Input: các chương trình ca nhạc phần lớn đều không đột phé\n",
        "Từ sai lỗi chính tả: đột phé\n",
        "Từ đúng lỗi chính tả: đột phá\n",
        "Output: các chương trình ca nhạc phần lớn đều không đột phá\n",
        "\n",
        "Input: một cô gái váy ngán cũng cỡn chạy lên hỏa\"\"\"\n",
        "\n",
        "response = model.generate_content(prompt)\n",
        "\n",
        "print(response.text)"
      ],
      "metadata": {
        "colab": {
          "base_uri": "https://localhost:8080/",
          "height": 69
        },
        "id": "JV-1wF__Fln9",
        "outputId": "63255e37-8615-4108-8de7-1da859d89e4e"
      },
      "execution_count": null,
      "outputs": [
        {
          "output_type": "stream",
          "name": "stdout",
          "text": [
            "Từ sai lỗi chính tả: ngán\n",
            "Từ đúng lỗi chính tả: ngắn\n",
            "Output: một cô gái váy ngắn cũng cỡn chạy lên hỏa\n"
          ]
        }
      ]
    },
    {
      "cell_type": "markdown",
      "source": [
        "## 3. Các kỹ thuật Prompting"
      ],
      "metadata": {
        "id": "-wJrOFI8AUi2"
      }
    },
    {
      "cell_type": "markdown",
      "source": [
        "## 3.1 One-shot prompting\n",
        "Tất cả các ví dụ trên đều là ở dạng zero-shot, tức là không cung cấp ví dụ mẫu nào về bài toán đang muốn giải quyết.\n",
        "\n",
        "Một số bài toán ta cần cho ví dụ cụ thể để máy tính biết ta muốn tạo ra output như thế nào từ ví dụ cho trước."
      ],
      "metadata": {
        "id": "vrlncCmv8TsE"
      }
    },
    {
      "cell_type": "code",
      "source": [
        "prompt = \"\"\"\n",
        "1234567: một triệu hai trăm ba mươi bốn nghìn năm trăm sáu mươi bảy euro\n",
        "89766:\n",
        "\"\"\"\n",
        "\n",
        "response = model.generate_content(prompt)\n",
        "\n",
        "print(response.text)"
      ],
      "metadata": {
        "colab": {
          "base_uri": "https://localhost:8080/",
          "height": 34
        },
        "id": "Q3rigkjm8ZKQ",
        "outputId": "0ce9cb92-8418-485a-a172-5fd67cccc170"
      },
      "execution_count": null,
      "outputs": [
        {
          "output_type": "stream",
          "name": "stdout",
          "text": [
            "Tám mươi chín nghìn bảy trăm sáu mươi sáu euro\n"
          ]
        }
      ]
    },
    {
      "cell_type": "markdown",
      "source": [
        "## 3.2 Few-shot prompting"
      ],
      "metadata": {
        "id": "FwH-8hr_8Z59"
      }
    },
    {
      "cell_type": "code",
      "source": [
        "prompt = \"\"\"\n",
        "Quán ăn này ngon: tích cực\n",
        "nhân viên rất thái độ, chậm chạp: tiêu cực\n",
        "Quán ăn chế biến ngon, tuy nhiên giá hơi mắc: không rõ\n",
        "Dịch vụ quán này 5 sao, đồ ăn cần làm nhạt hơn:\"\"\"\n",
        "\n",
        "response = model.generate_content(prompt)\n",
        "\n",
        "print(response.text)"
      ],
      "metadata": {
        "colab": {
          "base_uri": "https://localhost:8080/",
          "height": 34
        },
        "id": "sXZwtnui8ZYY",
        "outputId": "5d820827-232b-4c53-db66-8d4f83e32c58"
      },
      "execution_count": null,
      "outputs": [
        {
          "output_type": "stream",
          "name": "stdout",
          "text": [
            "Không rõ\n"
          ]
        }
      ]
    },
    {
      "cell_type": "markdown",
      "source": [
        "## 3.3 Chain-of-thought prompting"
      ],
      "metadata": {
        "id": "7wj9DjTz8dPv"
      }
    },
    {
      "cell_type": "markdown",
      "source": [
        "Có rất nhiều ví dụ ta không thể tạo tạo ra kết quả mặc dù cho nhiều mẫu ví dụ. Để giải quyết tốt hơn ta cần mô tả dưới dạng chain-of-thought:"
      ],
      "metadata": {
        "id": "v30CS65y_PD7"
      }
    },
    {
      "cell_type": "code",
      "source": [
        "prompt = \"\"\"\n",
        "12345: 15\n",
        "10000: 1\n",
        "321: 6\n",
        "9:\n",
        "\"\"\"\n",
        "\n",
        "response = model.generate_content(prompt)\n",
        "\n",
        "print(response.text)"
      ],
      "metadata": {
        "colab": {
          "base_uri": "https://localhost:8080/",
          "height": 34
        },
        "id": "TEmAeTHt8Zay",
        "outputId": "72b174b7-5117-4147-e551-4aadef934ee5"
      },
      "execution_count": null,
      "outputs": [
        {
          "output_type": "stream",
          "name": "stdout",
          "text": [
            "2\n"
          ]
        }
      ]
    },
    {
      "cell_type": "markdown",
      "source": [
        "Rõ ràng bài toán trên quá \"phức tạp\" để máy tính có thể hiểu mong muốn của ta là gì. Do đó, cần chỉ dẫn chi tiết hơn cách làm cho máy dưới dạng chuỗi suy luận:"
      ],
      "metadata": {
        "id": "PLAkw2Qr_2pk"
      }
    },
    {
      "cell_type": "code",
      "source": [
        "prompt = \"\"\"\n",
        "Input: 12345\n",
        "Tách các chữ số: 1, 2, 3, 4, 5\n",
        "Cộng các chữ số: 1 + 2 + 3 + 4 + 5\n",
        "Output: 15\n",
        "\n",
        "Input: 96\n",
        "\"\"\"\n",
        "\n",
        "response = model.generate_content(prompt)\n",
        "\n",
        "print(response.text)"
      ],
      "metadata": {
        "colab": {
          "base_uri": "https://localhost:8080/",
          "height": 69
        },
        "id": "K3LPrR73__7Z",
        "outputId": "e8612034-9c12-42f5-cbf9-db23d1cdf1f2"
      },
      "execution_count": null,
      "outputs": [
        {
          "output_type": "stream",
          "name": "stdout",
          "text": [
            "Tách các chữ số: 9, 6\n",
            "Cộng các chữ số: 9 + 6\n",
            "Output: 15\n"
          ]
        }
      ]
    },
    {
      "cell_type": "markdown",
      "source": [
        "## 4. Truy vấn văn bản với embedding vector"
      ],
      "metadata": {
        "id": "Qk7bpEOfQqXF"
      }
    },
    {
      "cell_type": "code",
      "source": [
        "title = \"Title: Áo - Thổ Nhĩ Kỳ: Hướng đến lịch sử\"\n",
        "sample_text = (\"Title: Áo - Thổ Nhĩ Kỳ: Hướng đến lịch sử\"\n",
        "    \"\\n\"\n",
        "    \"Full article:\\n\"\n",
        "    \"\\n\"\n",
        "    \"Mùa 2021-2022, Ralf Rangnick thế chỗ Ole Gunnar Solskjaer vào tháng 11, nhưng không thể vực dậy Man Utd. Đội sớm bị loại khỏi Cup Liên Đoàn, Cup FA, Champions League, thậm chí cán đích thứ sáu với số bàn thua và điểm số tệ nhất kỷ nguyên Ngoại hạng Anh. Với 37,9%, Rangnick là HLV có tỷ lệ thắng thấp nhất CLB trong lịch sử Ngoại hạng Anh.\")\n",
        "\n",
        "model = 'models/embedding-001'\n",
        "embedding = genai.embed_content(model=model,\n",
        "                                content=sample_text,\n",
        "                                task_type=\"retrieval_document\",\n",
        "                                title=title)\n",
        "\n",
        "print(embedding)"
      ],
      "metadata": {
        "colab": {
          "base_uri": "https://localhost:8080/",
          "height": 54
        },
        "id": "VqVNWbphQwzp",
        "outputId": "da55ffb4-6113-4426-f527-68e6b131db96"
      },
      "execution_count": null,
      "outputs": [
        {
          "output_type": "stream",
          "name": "stdout",
          "text": [
            "{'embedding': [0.016498363, 0.009258061, -0.034595884, 0.01856239, 0.038669206, 0.053697407, 0.010114666, 0.0068686428, 0.045637738, 0.02245675, -0.009857588, 0.054540206, -0.008070376, 0.0044691325, -0.0055508288, -0.070507936, 0.0014727395, 0.007777068, -0.0075042564, 0.011954943, 0.016028741, 0.016204864, -0.0449351, -0.021393856, -0.030487008, -0.005289641, 0.025293771, -0.08653395, -0.055364415, -0.005885666, -0.06416872, -0.011626606, -0.0448384, 0.02965779, 0.012873677, 0.0024430042, -0.01087514, 0.018563759, 0.01112751, 0.004077443, 0.0030898075, -0.064491965, -0.011239815, 0.014481402, 0.016266456, -0.024971124, 0.016505558, -0.030992828, -0.01679316, -0.012044236, 0.040421084, -0.03291932, 0.05256891, -0.0052022617, -0.04469303, -0.013968458, 0.0233358, -0.024050793, -0.022587176, 0.050363272, 0.034019683, 0.012448835, -0.0327071, 0.012183984, -0.022283059, -0.034870844, -0.059225503, 0.02075216, 0.08505228, 0.004377471, 0.07465042, -0.00025312038, 0.06989876, -0.049946804, -0.017165674, -0.108396016, -0.059098214, 0.057863213, 0.062778264, 0.060042787, -0.002646069, -0.045051243, -0.0705894, -0.05142636, -0.05030778, 0.03789395, -0.025873378, 0.0038878198, -0.027395185, 0.022765268, -0.04451544, -0.03662223, 0.06543524, -0.035174083, 0.048960514, 0.07002081, -0.013608638, -0.010861807, 0.032801952, -0.028044172, -0.045250118, -0.02756245, -0.02635953, 0.038688168, 0.019657455, 0.028711705, 0.021082612, 0.07429279, -0.013398327, 0.03402059, -0.02940541, -0.017601945, -0.0020901673, -0.032522675, 0.044763602, -0.07295033, -0.01910487, 0.070899405, 0.016290287, 0.018855613, 0.02796653, 0.0012374637, 0.03038198, 0.006045178, -0.048512645, 0.012947775, -0.002892102, 0.07744872, 0.059244845, 0.05777862, 0.030298764, -0.024146328, -0.04901648, 0.047395393, 0.051035084, 0.032507252, -0.0018350268, -0.05577745, 0.0188511, -0.010070287, -0.06657943, -0.005671361, -0.0007773003, 0.0038691752, -0.005765697, 0.056590013, -0.041906428, 0.03335165, 0.028098907, -0.041040093, -0.016735326, 0.007223681, -0.040429637, 0.0007329913, 0.0026342862, 0.051134735, 0.0076606655, 0.05094785, 0.010090868, 0.042626414, 0.03239478, 0.0054899985, 0.031903666, 0.049862143, -0.024386918, -0.0109103555, -0.0006912891, 0.01706159, 0.017622283, 0.01558815, -0.014963789, 0.020380165, -0.077964015, -0.053267468, -0.013571108, -0.012294177, 0.004903315, 0.056526575, -0.0028700952, -0.02292692, -0.011709011, -0.0019560624, 0.027883254, 0.03393003, 0.026378198, -0.009553927, 0.07920873, -0.037212003, -0.046831064, 0.007002179, 0.012951727, -0.015765265, -0.020630214, -0.06287463, 0.013942421, 0.06037578, 0.018740578, 0.02310917, 0.032297682, -0.00473799, 0.01525053, 0.03983737, -0.04273571, 0.000926875, 0.0061178063, 0.015250967, 0.094989754, 0.00087857025, -0.054828305, 0.039263003, -0.06600483, 0.015309919, -0.056625944, -0.023270868, 0.029639812, 0.031576045, 0.011374416, 0.02622658, 0.009567709, -0.015265756, 0.0028105476, 0.010097123, -0.034500826, -0.010843948, -0.018528594, 0.045368817, 0.00032845282, 0.048267204, 0.033478312, -0.038760617, 0.027127985, 0.04170699, 0.06744342, 0.003568567, 0.08768522, -0.037069403, 0.0070599997, 0.052108377, 0.06786244, 0.02941229, -0.016398005, 0.05186678, 0.005515344, 0.0033718334, -0.040859345, -0.03357053, 0.00067321263, 0.05526917, -0.012075732, 0.029614568, -0.053856496, -0.06187702, -0.012040912, 0.0015409959, -0.049888525, 0.03207802, -0.07026262, 0.0017787622, -0.014164322, 0.049712386, 0.047337655, -0.052747335, 0.015699737, -0.016483523, 0.008684831, 0.001970204, 0.03336165, -0.02048094, -0.052301086, -9.218556e-05, 0.015566911, -0.025067557, 0.071272306, 0.0052338466, -0.040883005, -0.0151114855, 0.002067594, 0.05229219, 0.012631242, -0.005712975, 0.0060647544, 0.031665746, 0.027293824, -0.059335694, -0.0015778764, 0.019307537, -0.04366095, -0.05757145, 0.00814789, -0.013401621, -0.04069228, 0.002712635, -0.0007398176, 0.013093913, -0.07285006, -0.014688884, 0.0036375741, -0.012566537, -0.019506939, -0.01845339, 0.021629045, -0.05740772, 0.022572232, -0.067757726, 0.0013663062, -0.017771272, -0.023907626, -0.036421373, 0.02444302, 0.035800043, -0.009648607, -0.064988784, -0.013791595, -0.0051619066, 0.043354686, 0.0027378497, -0.004491666, 0.028038973, -0.052024543, -0.010469393, -0.019082965, 0.08490739, 0.015169001, 0.029047495, 0.0031829255, 0.009488061, -0.044248156, 0.005914669, -0.02195905, -0.0070047183, -0.016612537, -0.042064715, -0.061384454, 0.01520236, -0.021804493, 0.017156115, -0.07685579, -0.01753585, -0.053661186, 0.02541916, -0.0018697454, 0.012487976, 0.004389327, -0.085142, 0.02768998, -0.0031402183, -0.03428066, 0.029309316, 0.060779218, 0.0379696, 0.03285393, 0.059806857, -0.026369762, -0.011053206, -0.03090326, -0.059847694, 0.086564325, -0.026319664, 0.04537499, -0.016613362, 0.0033516444, 0.049916267, -0.020387096, -0.009008354, -0.018668015, 0.050214715, -0.02920645, -0.033917926, -0.03940376, 0.04463508, 0.0025839638, -0.022325357, 0.020479605, 0.0051742285, -0.018289665, -0.013543706, -0.07491406, -0.021252349, 0.025827631, 0.07653418, -0.0074893385, -0.0068060374, 0.079543106, 0.03864525, 0.036752388, 0.009981356, 0.050921764, 0.02434692, -0.008201003, 0.034529746, 0.027015163, 0.0005975029, 0.03762738, 0.026717067, -0.015131978, 0.025402877, -0.07127614, -0.062536135, 0.024584448, -0.014634117, -0.022533163, 0.016024355, -0.0107928375, -0.023599932, -0.049009625, -0.0387725, -0.032271445, -0.026897281, -0.043091092, -0.0032119649, 0.024548942, 0.05099727, 0.03461119, -0.03571117, -0.073781855, -0.009641933, 0.06987096, 0.028074756, 0.038167678, 0.011580587, -0.03772884, -0.0011153329, 0.026069349, -0.0026991242, -0.06798609, -0.0017492694, -0.012639554, -0.04184324, -0.0012800014, -0.0008074949, 0.07094516, 0.05282061, 0.010696832, -0.019439723, -0.00019648793, -0.030951811, -0.041687604, 0.040953405, -0.033265073, -0.0014180682, 0.019092195, -0.027085414, 0.02944994, 0.00023550988, -0.04227441, -0.011767094, 0.01914852, -0.024028467, 0.018507106, -0.08547902, -0.01143034, -0.055205822, -0.032739904, -0.050635893, -0.025401026, -0.018984815, -0.007782428, -0.016335104, -0.022932492, 0.027112754, 0.014184736, -0.032201868, -0.023818668, 0.00069317134, 0.030882422, -0.033411827, -0.00013628152, -0.02168959, -0.01616906, 0.060818434, 0.01153359, -0.07263943, -0.018192882, -0.030346511, 0.0028742454, 0.011733272, -0.05595332, 0.079523094, -0.034378648, -0.024568575, -0.017204124, -0.016427882, 0.043841135, 0.039626446, 0.002620044, -0.017286176, 0.036434148, -0.004112448, -0.03093516, 0.08964061, 0.010297266, 0.034283165, -0.017997077, -0.019261116, -0.0060836263, -0.019753853, -0.06430779, 0.031037787, 0.046720188, -0.00209824, -0.05858616, -0.015074498, 0.02499623, 0.007831686, 0.004203084, -0.04575923, 0.03511973, -0.02635691, 0.008812119, -0.021902608, -0.019346757, -0.025398862, 0.01970559, -0.027925264, 0.048171032, -0.025056869, -0.030731626, 0.057231765, 0.036309574, 0.007060758, 0.048953906, 0.01260753, -0.08220005, -0.017987808, 0.014877089, -0.060297564, -0.00998907, -0.020972306, -0.017510979, 0.020931914, -0.016580638, 0.06752404, -0.03810034, -0.032637406, -0.028907467, -0.0033108639, 0.008468571, 0.0353729, 0.07164641, -0.014086217, 0.0031591125, -0.0065496415, -0.022990603, 0.049016964, -0.004865375, 0.007026519, 0.003016963, -0.08887853, 0.007054232, -0.004332914, 0.00047945755, -0.009098884, 0.012206772, 0.018794114, 0.07228682, -0.02782968, 0.012708842, 0.0043609915, 0.05678183, 0.0039634537, -0.06305548, -0.0022098764, -0.00790558, -0.02920391, 0.10338688, 0.024574224, -0.03316668, -0.070208855, 0.013090425, -0.008095108, 0.0014365808, 0.005952252, 0.0044850386, 0.0026880691, 0.065078795, -0.023235647, -0.03273865, 0.0015507316, -0.020128777, 0.012218621, 0.032288052, -0.052748375, 0.0064732935, 0.051817346, -0.052127138, 0.0036574982, 0.053637497, 0.06819025, 0.013857849, 0.0082794605, -0.03901848, 0.085230775, -0.069696955, 0.021496618, -0.0065052253, -0.011598492, 0.055419706, -0.038519897, -0.023116257, 0.00034947964, 0.0188253, -0.035951547, 0.02430401, -0.07816382, -0.011103851, -0.0034954834, -0.030671237, 0.022860883, 0.0047328295, -0.02478176, -0.0317221, -0.025461933, 0.016037416, -0.016188273, -0.048834518, -0.015136172, 0.005403946, 0.007407053, -0.026105927, -0.024861973, 0.010995471, 0.025870614, -0.006842853, 0.019188024, 0.003841358, 0.017303782, 0.0092199575, -0.043222025, 0.06472319, 0.032928813, 0.055257898, 0.04811172, 0.027083859, -0.019977432, -0.028840845, -0.039556563, -0.021874337, 0.0083510885, -0.019601844, 0.0074420967, -0.051865615, -0.0003626292, 0.023025187, 0.0361309, -0.032627292, 0.0318453, 0.022030113, -0.08092541, -0.092030466, -0.028499963, -0.018291885, 0.036510166, 0.0146432435, 0.013213769, -8.548817e-05, -0.007189745, -0.011976023, -0.020514498, 0.039548256, -0.021313345, -0.025901355, -0.022823343, -0.04539733, 0.030256614, -0.02050976, -0.03989235, -0.051224634, -0.08759536, -0.009849891, 0.007076128, -0.061650902, 0.05171229, -0.0048484537, 0.0015504289, 0.0064376853, 0.062496807, 0.012172521, 0.05403628, 0.0061675617, 0.010304579, -0.00027136953, -0.0560572, -0.00314005, -0.0065279896, -0.022398306, -0.017768517, 0.06519684, -0.05798084, -0.021535045, -0.0047783162, 0.020923983, -0.04557514, -0.017524522, 0.011276531, 0.060993902, -0.040340938, -0.029093828, 0.010804732, -0.016872445, 0.08220808, -0.056536555, -0.054351598, -0.025263086, 0.061433587, 0.024913471, 0.0012676142, 0.0010679719, 0.011045309, 0.044437416, 0.05470207, -0.0021602672, -0.02004328, -0.07131419, 0.034980655, 0.0010569411, -0.0140924, -0.0030252633, 0.036083408, -0.0070127137, 0.06914111, 0.0231523, 0.0072256317, -0.01777643, 0.019948224, -0.06336721, 0.044540662, -0.036979638, -0.019889541, -0.016142135, 0.027714074, 0.071461774, -0.020962123, 0.0022302764, -0.030631427, -0.02380912, 0.032159895, -0.019262474, 0.02632568, -0.055137478, -0.075885236, -0.02874583, 0.0023026695, -0.041050006, 0.022215115, -0.022919137, -0.042431157, -0.015524464, -0.005129802, -0.05433228, -0.0351059, -0.008199128, 0.016875958, -0.012591635, 0.029070184, 0.014996399, -0.019537631, 0.010780207, 0.019534081, 0.025450213, -0.032282673, -0.03742497, -0.032729164, -0.0015457557, -0.009834032, 0.0058913413, -0.018761605, -4.1311985e-05, 0.056376994]}\n"
          ]
        }
      ]
    },
    {
      "cell_type": "code",
      "source": [
        "DOCUMENT1 = {\n",
        "    \"title\": \"Xã hội\",\n",
        "    \"content\": \"Cô ấy đã tình nguyện dạy học cho các em nhỏ tại làng X\"}\n",
        "DOCUMENT2 = {\n",
        "    \"title\": \"Thể thao\",\n",
        "    \"content\": \"Đội bóng đó đã ghi bàn với 3 bàn thắng\"}\n",
        "DOCUMENT3 = {\n",
        "    \"title\": \"Thời trang\",\n",
        "    \"content\": \"Với trang phục đính kim cương và mái tóc được nhuộm đỏ tạo nên nét sang trọng quý phái\"}\n",
        "\n",
        "documents = [DOCUMENT1, DOCUMENT2, DOCUMENT3]"
      ],
      "metadata": {
        "id": "dcyGdoevbNxa"
      },
      "execution_count": null,
      "outputs": []
    },
    {
      "cell_type": "code",
      "source": [
        "import numpy as np\n",
        "# Get the embeddings of each text and add to an embeddings column in the dataframe\n",
        "def embed_fn(title, text):\n",
        "  return genai.embed_content(model=model,\n",
        "                             content=text,\n",
        "                             task_type=\"retrieval_document\",\n",
        "                             title=title)[\"embedding\"]\n",
        "embeddings = []\n",
        "for idx, doc  in enumerate(documents):\n",
        "  embeddings.append(embed_fn(doc['title'], doc['content']))\n",
        "\n",
        "embeddings = np.array(embeddings)"
      ],
      "metadata": {
        "id": "BBPqPKJ2bXAX"
      },
      "execution_count": null,
      "outputs": []
    },
    {
      "cell_type": "code",
      "source": [
        "query = \"Đội tuyển Ý đã ghi bàn với các bàn cách biệt\"\n",
        "query_embedding = genai.embed_content(model=model,\n",
        "                                        content=query,\n",
        "                                        task_type=\"retrieval_query\")['embedding']"
      ],
      "metadata": {
        "id": "OHJHnfE9c1EV"
      },
      "execution_count": null,
      "outputs": []
    },
    {
      "cell_type": "code",
      "source": [
        "# Convert query embedding dưới dạng numpy array để tính toán\n",
        "query_embedding = np.array(query_embedding)\n",
        "# Dot là tích vô hướng, để tính độ tương đồng giữa query embedding và các embedding biểu diễn các văn bản\n",
        "dot_products = query_embedding.dot(embeddings.T)\n",
        "# Tìm văn bản gần với query nhất\n",
        "idx = np.argmax(dot_products)\n",
        "documents[idx]"
      ],
      "metadata": {
        "colab": {
          "base_uri": "https://localhost:8080/"
        },
        "id": "0WSJ4TpSdP2g",
        "outputId": "ba4907de-e67b-4938-c886-7ca37f6fa855"
      },
      "execution_count": null,
      "outputs": [
        {
          "output_type": "execute_result",
          "data": {
            "text/plain": [
              "{'title': 'Thể thao', 'content': 'Đội bóng đó đã ghi bàn với 3 bàn thắng'}"
            ]
          },
          "metadata": {},
          "execution_count": 42
        }
      ]
    },
    {
      "cell_type": "code",
      "source": [
        "prompt = \"\"\"\n",
        "Hãy sửa nội dung lời thoại speech to text sau đây. Chú ý rằng:\n",
        "- Không thay đổi số từ trong câu\n",
        "- Không cần thêm dấu câu\n",
        "- Một số ký tự có phát âm ngọng do yếu tố vùng miền. Ví dụ: 'd' và 'v', 'g' và 'r', 'tr' và 'ch'.\n",
        "Input: nghe chúng tôi hỏi điều này chị ngát gân gấng nước mắt\n",
        "Output:\n",
        "\"\"\"\n",
        "\n",
        "response = model.generate_content(prompt)\n",
        "\n",
        "print(response.text)"
      ],
      "metadata": {
        "colab": {
          "base_uri": "https://localhost:8080/",
          "height": 53
        },
        "id": "_XYPhqUfR2eI",
        "outputId": "d7c615f0-ce72-42d7-f939-4ab1fe166ef4"
      },
      "execution_count": null,
      "outputs": [
        {
          "output_type": "stream",
          "name": "stdout",
          "text": [
            "nghe chúng tôi hỏi điều này chị ngắt gân gấn nước mắt \n",
            "\n"
          ]
        }
      ]
    },
    {
      "cell_type": "code",
      "source": [
        "pred = \"tiếng cọc cạch khửng lại của những khớp sắt\"\n",
        "       \"tiếng cọc cạch KHỰNG lại của những khớp sắt\"\n",
        "pred = \"nghe chúng tôi hỏi điều này chị ngát gân gấng nước mắt\"\n",
        "       \"nghe chúng tôi hỏi điều này chị ngát rân rấn nước mắt\"\n",
        "pred = \"những cơn gió mạnh và mưa đóng băng gây chơn chợt\"\n",
        "       \"những cơn gió mạnh và mưa đóng băng gây TRơn TRợt\""
      ],
      "metadata": {
        "id": "GWvgQRkARYh2"
      },
      "execution_count": null,
      "outputs": []
    }
  ]
}