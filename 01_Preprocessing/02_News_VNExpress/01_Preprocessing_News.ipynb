{
  "cells": [
    {
      "cell_type": "markdown",
      "metadata": {
        "id": "5Hfbb2nzl9DZ"
      },
      "source": [
        "# Pre-processing News Data"
      ]
    },
    {
      "cell_type": "markdown",
      "metadata": {
        "id": "T1elcGz7huoP"
      },
      "source": [
        "## Bài toán\n",
        "Dữ liệu gồm n văn bản phân vào 10 chủ đề khác nhau. Cần biễu diễn mỗi văn bản dưới dạng một vector số thể hiện cho nội dụng của văn bản đó."
      ]
    },
    {
      "cell_type": "markdown",
      "metadata": {
        "id": "-_akck0KhuoW"
      },
      "source": [
        "## Sử dụng phương pháp mã hóa: TF-IDF\n",
        "Cho tập gồm $n$ văn bản: $D = \\{d_1, d_2, ... d_n\\}$. Tập từ điển tương ứng được xây dựng từ $n$ văn bản này có độ dài là $m$\n",
        "- Xét văn bản $d$ có $|d|$ từ và $t$ là một từ trong $d$. Mã hóa tf-idf của $t$ trong văn bản $d$ được biểu diễn:\n",
        "\\begin{equation}\n",
        "    \\begin{split}\n",
        "        \\text{tf}_{t, d} &= \\frac{f_t}{|d|} \\\\\n",
        "        \\text{idf}_{t, d} &= \\log\\frac{n}{n_t}, \\ \\ \\ \\ n_t = |\\{d\\in D: t\\in d\\}| \\\\\n",
        "        \\text{tf-idf}_{t d} &= \\text{tf}_{t, d} \\times \\text{idf}_{t, d}\n",
        "    \\end{split}\n",
        "\\end{equation}\n",
        "\n",
        "- Khi đó văn bản $d$ được mã hóa là một vector $m$ chiều. Các từ xuất hiện trong d sẽ được thay bằng giá trị tf-idf tương ứng. Các từ không xuất hiện trong $d$ thì thay là 0"
      ]
    },
    {
      "cell_type": "markdown",
      "source": [
        "# Các bước làm"
      ],
      "metadata": {
        "id": "rTNm4rbJ2Hdm"
      }
    },
    {
      "cell_type": "markdown",
      "source": [
        "## Chuẩn bị các thư viện cần thiết"
      ],
      "metadata": {
        "id": "dQ7OuafR2lm8"
      }
    },
    {
      "cell_type": "code",
      "source": [
        "!pip install pyvi"
      ],
      "metadata": {
        "colab": {
          "base_uri": "https://localhost:8080/"
        },
        "id": "hJEF52A6nzBM",
        "outputId": "45ff6aa6-b198-4ed7-abd4-b68f043b7b47"
      },
      "execution_count": 1,
      "outputs": [
        {
          "output_type": "stream",
          "name": "stdout",
          "text": [
            "Requirement already satisfied: pyvi in /usr/local/lib/python3.10/dist-packages (0.1.1)\n",
            "Requirement already satisfied: scikit-learn in /usr/local/lib/python3.10/dist-packages (from pyvi) (1.2.2)\n",
            "Requirement already satisfied: sklearn-crfsuite in /usr/local/lib/python3.10/dist-packages (from pyvi) (0.3.6)\n",
            "Requirement already satisfied: numpy>=1.17.3 in /usr/local/lib/python3.10/dist-packages (from scikit-learn->pyvi) (1.22.4)\n",
            "Requirement already satisfied: scipy>=1.3.2 in /usr/local/lib/python3.10/dist-packages (from scikit-learn->pyvi) (1.10.1)\n",
            "Requirement already satisfied: joblib>=1.1.1 in /usr/local/lib/python3.10/dist-packages (from scikit-learn->pyvi) (1.3.1)\n",
            "Requirement already satisfied: threadpoolctl>=2.0.0 in /usr/local/lib/python3.10/dist-packages (from scikit-learn->pyvi) (3.2.0)\n",
            "Requirement already satisfied: python-crfsuite>=0.8.3 in /usr/local/lib/python3.10/dist-packages (from sklearn-crfsuite->pyvi) (0.9.9)\n",
            "Requirement already satisfied: six in /usr/local/lib/python3.10/dist-packages (from sklearn-crfsuite->pyvi) (1.16.0)\n",
            "Requirement already satisfied: tabulate in /usr/local/lib/python3.10/dist-packages (from sklearn-crfsuite->pyvi) (0.9.0)\n",
            "Requirement already satisfied: tqdm>=2.0 in /usr/local/lib/python3.10/dist-packages (from sklearn-crfsuite->pyvi) (4.65.0)\n"
          ]
        }
      ]
    },
    {
      "cell_type": "code",
      "execution_count": 2,
      "metadata": {
        "id": "4eQuwrwZhuoY"
      },
      "outputs": [],
      "source": [
        "import os\n",
        "import matplotlib.pyplot as plt\n",
        "import numpy as np\n",
        "\n",
        "from sklearn.datasets import load_files\n",
        "from pyvi import ViTokenizer\n",
        "from sklearn.feature_extraction.text import CountVectorizer\n",
        "from sklearn.feature_extraction.text import TfidfTransformer\n",
        "from sklearn.pipeline import Pipeline\n",
        "\n",
        "%matplotlib inline"
      ]
    },
    {
      "cell_type": "code",
      "source": [
        "from google.colab import drive\n",
        "drive.mount('/content/drive')"
      ],
      "metadata": {
        "colab": {
          "base_uri": "https://localhost:8080/"
        },
        "id": "AnA2o9XkoJWV",
        "outputId": "afe8e93d-a8ea-467c-892b-ae431228312e"
      },
      "execution_count": 3,
      "outputs": [
        {
          "output_type": "stream",
          "name": "stdout",
          "text": [
            "Drive already mounted at /content/drive; to attempt to forcibly remount, call drive.mount(\"/content/drive\", force_remount=True).\n"
          ]
        }
      ]
    },
    {
      "cell_type": "markdown",
      "metadata": {
        "id": "rqNL4mwDhuoa"
      },
      "source": [
        "## Load dữ liệu từ thư mục\n",
        "\n",
        "Cấu trúc thư mục như sau\n",
        "\n",
        "- data/news_vnexpress/\n",
        "\n",
        "    - Kinh tế:\n",
        "        - bài báo 1.txt\n",
        "        - bài báo 2.txt\n",
        "    - Pháp luật\n",
        "        - bài báo 3.txt\n",
        "        - bài báo 4.txt"
      ]
    },
    {
      "cell_type": "code",
      "execution_count": 4,
      "metadata": {
        "id": "tty49E_ohuoa"
      },
      "outputs": [],
      "source": [
        "#Có thể chỉnh lại đường dẫn thư mục cho phù hợp\n",
        "INPUT = 'data/news_vnexpress'\n",
        "os.makedirs(\"images\",exist_ok=True)  # thư mục lưu các các hình ảnh trong quá trình huấn luyện và đánh gía"
      ]
    },
    {
      "cell_type": "code",
      "execution_count": 5,
      "metadata": {
        "id": "Ru3Ct7Zphuob",
        "outputId": "c72c8214-3731-432b-8833-def97493c61d",
        "colab": {
          "base_uri": "https://localhost:8080/"
        }
      },
      "outputs": [
        {
          "output_type": "stream",
          "name": "stdout",
          "text": [
            "Các nhãn và số văn bản tương ứng trong dữ liệu\n",
            "----------------------------------------------\n",
            "kinh-doanh: 262\n",
            "suc-khoe: 162\n",
            "the-thao: 173\n",
            "phap-luat: 59\n",
            "thoi-su: 59\n",
            "khoa-hoc: 144\n",
            "giao-duc: 105\n",
            "doi-song: 120\n",
            "giai-tri: 201\n",
            "du-lich: 54\n",
            ".ipynb_checkpoints: 0\n",
            "-------------------------\n",
            "Tổng số văn bản: 1339\n"
          ]
        }
      ],
      "source": [
        "# statistics\n",
        "print('Các nhãn và số văn bản tương ứng trong dữ liệu')\n",
        "print('----------------------------------------------')\n",
        "n = 0\n",
        "for label in os.listdir(INPUT):\n",
        "    print(f'{label}: {len(os.listdir(os.path.join(INPUT, label)))}')\n",
        "    n += len(os.listdir(os.path.join(INPUT, label)))\n",
        "\n",
        "print('-------------------------')\n",
        "print(f\"Tổng số văn bản: {n}\")"
      ]
    },
    {
      "cell_type": "code",
      "execution_count": 6,
      "metadata": {
        "id": "j3tycWTfhuoc",
        "outputId": "6d4e4092-dd84-4a2e-8fd1-f200953d4eb8",
        "colab": {
          "base_uri": "https://localhost:8080/"
        }
      },
      "outputs": [
        {
          "output_type": "stream",
          "name": "stdout",
          "text": [
            "mapping:\n",
            ".ipynb_checkpoints - 0\n",
            "doi-song - 1\n",
            "du-lich - 2\n",
            "giai-tri - 3\n",
            "giao-duc - 4\n",
            "khoa-hoc - 5\n",
            "kinh-doanh - 6\n",
            "phap-luat - 7\n",
            "suc-khoe - 8\n",
            "the-thao - 9\n",
            "thoi-su - 10\n",
            "--------------------------\n",
            "['/content/drive/MyDrive/ML_course/Preprocessing_practice/Assignment/News_VNExpress_/news_vnexpress/khoa-hoc/00133.txt']\n",
            "[5]\n",
            "['Mời độc giả đặt câu hỏi tại đây\\n']\n",
            "\n",
            "Tổng số  văn bản: 1339\n"
          ]
        }
      ],
      "source": [
        "# load data\n",
        "data_train = load_files(container_path=INPUT, encoding=\"utf-8\")\n",
        "print('mapping:')\n",
        "for i in range(len(data_train.target_names)):\n",
        "    print(f'{data_train.target_names[i]} - {i}')\n",
        "\n",
        "print('--------------------------')\n",
        "print(data_train.filenames[0:1])\n",
        "# print(data_train.data[0:1])\n",
        "print(data_train.target[0:1])\n",
        "print(data_train.data[0:1])\n",
        "\n",
        "print(\"\\nTổng số  văn bản: {}\" .format( len(data_train.filenames)))"
      ]
    },
    {
      "cell_type": "markdown",
      "metadata": {
        "id": "HU06Y_BKhuoe"
      },
      "source": [
        "## Chuyển dữ liệu dạng text về ma trận (n x m) bằng TF-IDF"
      ]
    },
    {
      "cell_type": "markdown",
      "metadata": {
        "id": "I6vG0C2ima31"
      },
      "source": [
        "* Bạn cần viết đoạn mã tương ứng trong cell bên dưới. Theo các bước được gợi ý"
      ]
    },
    {
      "cell_type": "code",
      "execution_count": null,
      "metadata": {
        "id": "Ns9j8Hgrhuof"
      },
      "outputs": [],
      "source": [
        "# load dữ liệu các stopwords\n",
        "\n",
        "#---> Code ở đây\n",
        "\n",
        "# Chuyển hoá dữ liệu text về dạng vector TF\n",
        "#     - loại bỏ từ dừng\n",
        "#     - sinh từ điển\n",
        "\n",
        "#---> Code ở đây\n",
        "\n",
        "# Hàm thực hiện chuyển đổi dữ liệu text thành dữ liệu số dạng ma trận\n",
        "# Input: Dữ liệu 2 chiều dạng numpy.array, mảng nhãn id dạng numpy.array\n",
        "\n",
        "data_preprocessed = #Code ở đây\n",
        "\n",
        "X = data_preprocessed # thuoc tinh\n",
        "Y = data_train.target #nhan\n",
        "\n",
        "print(f\"\\nSố lượng từ trong từ điển: {len(module_count_vector.vocabulary_)}\")\n",
        "print(f\"Kích thước dữ liệu sau khi xử lý: {X.shape}\")\n",
        "print(f\"Kích thước nhãn tương ứng: {Y.shape}\")"
      ]
    },
    {
      "cell_type": "code",
      "execution_count": null,
      "metadata": {
        "id": "CzIuAyLphuoi"
      },
      "outputs": [],
      "source": [
        "print(X[100].toarray())\n",
        "print(Y[100])"
      ]
    },
    {
      "cell_type": "code",
      "execution_count": null,
      "metadata": {
        "id": "5FjwPJlfhuoj"
      },
      "outputs": [],
      "source": [
        "print(X[100]) #Sau khi xử lí, dữ liệu được lưu dưới dạng ma trận thưa như sau:"
      ]
    }
  ],
  "metadata": {
    "colab": {
      "provenance": []
    },
    "kernelspec": {
      "display_name": "Python 3",
      "language": "python",
      "name": "python3"
    },
    "language_info": {
      "codemirror_mode": {
        "name": "ipython",
        "version": 3
      },
      "file_extension": ".py",
      "mimetype": "text/x-python",
      "name": "python",
      "nbconvert_exporter": "python",
      "pygments_lexer": "ipython3",
      "version": "3.8.10"
    }
  },
  "nbformat": 4,
  "nbformat_minor": 0
}