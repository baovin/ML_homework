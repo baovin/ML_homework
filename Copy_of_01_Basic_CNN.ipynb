{
  "nbformat": 4,
  "nbformat_minor": 0,
  "metadata": {
    "colab": {
      "provenance": [],
      "toc_visible": true,
      "include_colab_link": true
    },
    "kernelspec": {
      "name": "python3",
      "display_name": "Python 3"
    },
    "language_info": {
      "name": "python"
    },
    "accelerator": "GPU",
    "gpuClass": "standard"
  },
  "cells": [
    {
      "cell_type": "markdown",
      "metadata": {
        "id": "view-in-github",
        "colab_type": "text"
      },
      "source": [
        "<a href=\"https://colab.research.google.com/github/baovin/ML_homework/blob/main/Copy_of_01_Basic_CNN.ipynb\" target=\"_parent\"><img src=\"https://colab.research.google.com/assets/colab-badge.svg\" alt=\"Open In Colab\"/></a>"
      ]
    },
    {
      "cell_type": "markdown",
      "metadata": {
        "id": "xrR5fQm7p_Zs"
      },
      "source": [
        "##  **Giới thiệu**\n",
        "\n",
        "Trong bài này, chúng ta sử dụng PyTorch để xây dựng một mạng CNN đơn giản. Sau đó chúng ta sẽ huấn luyện và đánh giá model với tập dữ liệu MNIST nhé.\n",
        "\n",
        "## Lưu ý về cách làm bài tập\n",
        "Các bạn điền vào phần **None** và các đoạn code đã được ẩn đi.\n"
      ]
    },
    {
      "cell_type": "markdown",
      "metadata": {
        "id": "ff69GG6MqBL4"
      },
      "source": [
        "### Tổng quan một mạng CNN cơ bản\n",
        "\n",
        "![CNN](http://personal.ie.cuhk.edu.hk/~ccloy/project_target_code/images/fig3.png)\n",
        "\n",
        "### MNIST dataset\n",
        "\n",
        "Trong bài tập này, chúng ta sẽ sử dựng tập MNIST rất nổi tiếng vể  các chữ số viết tay từ 0->9. Tập dataset này bao gồm 60000 ảnh cho training và 10000 ảnh cho testing. Các bức ảnh này đều đã được căn giữa và chỉnh với kích thước cố định là 28x28.\n",
        "\n",
        "Trong phần tiền xử lý, chúng ta sẽ cần chuẩn hóa các giá trị pixel của mỗi ảnh về khoảng [0,1], kiểu dữ liệu sẽ là float32\n",
        "\n",
        "<!-- ![MNIST Dataset](http://neuralnetworksanddeeplearning.com/images/mnist_100_digits.png) -->\n",
        "\n",
        "Chi tiết tại: http://yann.lecun.com/exdb/mnist/"
      ]
    },
    {
      "cell_type": "markdown",
      "source": [
        "## **Import Libraries**"
      ],
      "metadata": {
        "id": "zRURmtRwqEit"
      }
    },
    {
      "cell_type": "code",
      "metadata": {
        "id": "GZ19LKc1sWwt"
      },
      "source": [
        "import torch\n",
        "import torch.nn as nn\n",
        "import torch.nn.functional as F\n",
        "import torch.optim as optim\n",
        "from torchvision import datasets, transforms\n",
        "import numpy as np\n",
        "import matplotlib.pyplot as plt\n",
        "import random"
      ],
      "execution_count": 1,
      "outputs": []
    },
    {
      "cell_type": "markdown",
      "metadata": {
        "id": "azKN_M4XqLOg"
      },
      "source": [
        "## **Setup**\n",
        "\n",
        "- Chúng ta sẽ setup một số hyper-parameters cũng như một số giá trị cần dùng theo hướng dẫn nhé\n",
        "- Ở đây, các bạn vào Runtime, chọn Change the runtime type và chọn GPU nhé."
      ]
    },
    {
      "cell_type": "markdown",
      "source": [
        "### Hyperparameters"
      ],
      "metadata": {
        "id": "Gbr4IZpTJSgr"
      }
    },
    {
      "cell_type": "code",
      "source": [
        "# Số classes trong tập MNIST\n",
        "num_classes = 10\n",
        "\n",
        "# Số epoch\n",
        "epochs = 2\n",
        "\n",
        "# Các tham số cần thiết trong quá trình training\n",
        "learning_rate = 0.001\n",
        "batch_size = 128\n",
        "display_step = 100\n",
        "\n",
        "# Model path\n",
        "checkpoint = 'model.pth'\n",
        "\n",
        "# device: cuda\n",
        "device = torch.device('cuda' if torch.cuda.is_available() else 'cpu')\n",
        "device"
      ],
      "metadata": {
        "id": "YGR1-nRKIvrt",
        "colab": {
          "base_uri": "https://localhost:8080/"
        },
        "outputId": "105fdbaa-316a-44c8-df11-19943f5570a3"
      },
      "execution_count": 2,
      "outputs": [
        {
          "output_type": "execute_result",
          "data": {
            "text/plain": [
              "device(type='cuda')"
            ]
          },
          "metadata": {},
          "execution_count": 2
        }
      ]
    },
    {
      "cell_type": "markdown",
      "source": [
        "### Download MNIST dataset in local system"
      ],
      "metadata": {
        "id": "ZXh0tUwrsO13"
      }
    },
    {
      "cell_type": "code",
      "source": [
        "# Định nghĩa tham số transform\n",
        "transform=transforms.Compose([\n",
        "    transforms.ToTensor(), # Chuyển ảnh sang dạng Tensor\n",
        "    transforms.Normalize((0.5,), (0.5,)) # Normalize ảnh với mean và standard deviation là 0.5\n",
        "    ])\n",
        "\n",
        "# Load MNIST dataset từ torchvision.datasets\n",
        "train_data = datasets.MNIST(\n",
        "    root='data',\n",
        "    train=True,\n",
        "    transform=transform,\n",
        "    download=True\n",
        ")\n",
        "test_data = datasets.MNIST(\n",
        "    root='data',\n",
        "    train=False,\n",
        "    transform=transform,\n",
        ")\n"
      ],
      "metadata": {
        "id": "OtM8WibZsURb",
        "colab": {
          "base_uri": "https://localhost:8080/"
        },
        "outputId": "e34bfb98-dd12-43a5-e0d1-7a1cc039edb6"
      },
      "execution_count": 3,
      "outputs": [
        {
          "output_type": "stream",
          "name": "stdout",
          "text": [
            "Downloading http://yann.lecun.com/exdb/mnist/train-images-idx3-ubyte.gz\n",
            "Failed to download (trying next):\n",
            "HTTP Error 403: Forbidden\n",
            "\n",
            "Downloading https://ossci-datasets.s3.amazonaws.com/mnist/train-images-idx3-ubyte.gz\n",
            "Downloading https://ossci-datasets.s3.amazonaws.com/mnist/train-images-idx3-ubyte.gz to data/MNIST/raw/train-images-idx3-ubyte.gz\n"
          ]
        },
        {
          "output_type": "stream",
          "name": "stderr",
          "text": [
            "100%|██████████| 9912422/9912422 [00:00<00:00, 16813280.24it/s]\n"
          ]
        },
        {
          "output_type": "stream",
          "name": "stdout",
          "text": [
            "Extracting data/MNIST/raw/train-images-idx3-ubyte.gz to data/MNIST/raw\n",
            "\n",
            "Downloading http://yann.lecun.com/exdb/mnist/train-labels-idx1-ubyte.gz\n",
            "Failed to download (trying next):\n",
            "HTTP Error 403: Forbidden\n",
            "\n",
            "Downloading https://ossci-datasets.s3.amazonaws.com/mnist/train-labels-idx1-ubyte.gz\n",
            "Downloading https://ossci-datasets.s3.amazonaws.com/mnist/train-labels-idx1-ubyte.gz to data/MNIST/raw/train-labels-idx1-ubyte.gz\n"
          ]
        },
        {
          "output_type": "stream",
          "name": "stderr",
          "text": [
            "100%|██████████| 28881/28881 [00:00<00:00, 462274.11it/s]\n"
          ]
        },
        {
          "output_type": "stream",
          "name": "stdout",
          "text": [
            "Extracting data/MNIST/raw/train-labels-idx1-ubyte.gz to data/MNIST/raw\n",
            "\n",
            "Downloading http://yann.lecun.com/exdb/mnist/t10k-images-idx3-ubyte.gz\n",
            "Failed to download (trying next):\n",
            "HTTP Error 403: Forbidden\n",
            "\n",
            "Downloading https://ossci-datasets.s3.amazonaws.com/mnist/t10k-images-idx3-ubyte.gz\n",
            "Downloading https://ossci-datasets.s3.amazonaws.com/mnist/t10k-images-idx3-ubyte.gz to data/MNIST/raw/t10k-images-idx3-ubyte.gz\n"
          ]
        },
        {
          "output_type": "stream",
          "name": "stderr",
          "text": [
            "100%|██████████| 1648877/1648877 [00:00<00:00, 4214367.83it/s]\n"
          ]
        },
        {
          "output_type": "stream",
          "name": "stdout",
          "text": [
            "Extracting data/MNIST/raw/t10k-images-idx3-ubyte.gz to data/MNIST/raw\n",
            "\n",
            "Downloading http://yann.lecun.com/exdb/mnist/t10k-labels-idx1-ubyte.gz\n",
            "Failed to download (trying next):\n",
            "HTTP Error 403: Forbidden\n",
            "\n",
            "Downloading https://ossci-datasets.s3.amazonaws.com/mnist/t10k-labels-idx1-ubyte.gz\n",
            "Downloading https://ossci-datasets.s3.amazonaws.com/mnist/t10k-labels-idx1-ubyte.gz to data/MNIST/raw/t10k-labels-idx1-ubyte.gz\n"
          ]
        },
        {
          "output_type": "stream",
          "name": "stderr",
          "text": [
            "100%|██████████| 4542/4542 [00:00<00:00, 10769094.84it/s]\n"
          ]
        },
        {
          "output_type": "stream",
          "name": "stdout",
          "text": [
            "Extracting data/MNIST/raw/t10k-labels-idx1-ubyte.gz to data/MNIST/raw\n",
            "\n"
          ]
        }
      ]
    },
    {
      "cell_type": "code",
      "source": [
        "print(train_data)\n",
        "print(test_data)"
      ],
      "metadata": {
        "id": "y07UF0b5tEV1",
        "colab": {
          "base_uri": "https://localhost:8080/"
        },
        "outputId": "58724948-3340-439e-c888-e310d35fb11c"
      },
      "execution_count": 4,
      "outputs": [
        {
          "output_type": "stream",
          "name": "stdout",
          "text": [
            "Dataset MNIST\n",
            "    Number of datapoints: 60000\n",
            "    Root location: data\n",
            "    Split: Train\n",
            "    StandardTransform\n",
            "Transform: Compose(\n",
            "               ToTensor()\n",
            "               Normalize(mean=(0.5,), std=(0.5,))\n",
            "           )\n",
            "Dataset MNIST\n",
            "    Number of datapoints: 10000\n",
            "    Root location: data\n",
            "    Split: Test\n",
            "    StandardTransform\n",
            "Transform: Compose(\n",
            "               ToTensor()\n",
            "               Normalize(mean=(0.5,), std=(0.5,))\n",
            "           )\n"
          ]
        }
      ]
    },
    {
      "cell_type": "code",
      "source": [
        "print(train_data.data.size())\n",
        "print(train_data.targets.size())"
      ],
      "metadata": {
        "id": "mO0KTE6Zu2k8",
        "colab": {
          "base_uri": "https://localhost:8080/"
        },
        "outputId": "46390baf-f8d3-491a-8950-bc73b2b44060"
      },
      "execution_count": 5,
      "outputs": [
        {
          "output_type": "stream",
          "name": "stdout",
          "text": [
            "torch.Size([60000, 28, 28])\n",
            "torch.Size([60000])\n"
          ]
        }
      ]
    },
    {
      "cell_type": "markdown",
      "source": [
        "**Visualization of MNIST dataset**"
      ],
      "metadata": {
        "id": "3kX1gJy0vN-c"
      }
    },
    {
      "cell_type": "code",
      "source": [
        "figure = plt.figure(figsize=(10, 8))\n",
        "cols, rows = 5, 5\n",
        "for i in range(1, cols * rows + 1):\n",
        "    sample_idx = torch.randint(len(train_data), size=(1,)).item()\n",
        "    img, label = train_data[sample_idx]\n",
        "    figure.add_subplot(rows, cols, i)\n",
        "    plt.title(label)\n",
        "    plt.axis(\"off\")\n",
        "    plt.imshow(img.squeeze(), cmap=\"gray\")\n",
        "plt.show()"
      ],
      "metadata": {
        "id": "XmIAg1JjvmMh",
        "colab": {
          "base_uri": "https://localhost:8080/",
          "height": 675
        },
        "outputId": "ea04b147-df02-4f65-adfb-edef2bdeb08e"
      },
      "execution_count": 6,
      "outputs": [
        {
          "output_type": "display_data",
          "data": {
            "text/plain": [
              "<Figure size 1000x800 with 25 Axes>"
            ],
            "image/png": "[encoded data removed]"
          },
          "metadata": {}
        }
      ]
    },
    {
      "cell_type": "markdown",
      "source": [
        "### Preparing data for training with DataLoaders\n",
        "- Để tiện cho việc xử lý dữ dữ liệu vào các batches cũng như reshuffle dữ liệu qua mỗi epoch thì chúng ta sẽ sử dụng hàm sẵn có của PyTorch là [DataLoader](https://pytorch.org/docs/stable/data.html)"
      ],
      "metadata": {
        "id": "sKxHkWH6vxsU"
      }
    },
    {
      "cell_type": "code",
      "source": [
        "train_loader = torch.utils.data.DataLoader(train_data, batch_size=64)\n",
        "test_loader = torch.utils.data.DataLoader(test_data, batch_size=64)"
      ],
      "metadata": {
        "id": "ElcQVzmhw9oX"
      },
      "execution_count": 8,
      "outputs": []
    },
    {
      "cell_type": "markdown",
      "metadata": {
        "id": "J6EMkw45qTuh"
      },
      "source": [
        "## **Model**\n",
        "\n",
        "- Trong bài này, chúng ta sẽ định nghĩa một class Net để xây dựng một model có cấu trúc như hình ở đầu notebook. Tuy nhiên, ở đây để tránh khả năng bị overfitting của mô hình thì layer `Dropout` sẽ được thêm vào. Mô hình sẽ có cấu trúc như sau: `3x(Conv2d -> ReLU) -> MaxPool -> Dropout -> Flatten -> 2x(Linear ->  ReLU) -> Linear`\n",
        "- Kích thước ảnh đầu vào: (28, 28, 1)\n",
        "- Ở đây, các layer `Conv2d` có các thông số lần lượt là: `filter = (32, 64, 64); kernel_size = 3; stride = 1; valid padding`\n",
        "- Các layer `Linear` lần lượt số node là `128, 64, num_classes`\n",
        "- Sau layer `MaxPool2d` thì `height` và `width` của ảnh sẽ giảm đi một nửa\n",
        "- Hệ số layer `Dropout` = 0.3\n",
        "- Tham khảo: [Conv2d](https://pytorch.org/docs/stable/generated/torch.nn.Conv2d.html), [MaxPool2d](https://pytorch.org/docs/stable/generated/torch.nn.MaxPool2d.html), [Linear](https://pytorch.org/docs/stable/generated/torch.nn.Linear.html), [ReLU](https://pytorch.org/docs/stable/generated/torch.nn.ReLU.html), [Dropout](https://pytorch.org/docs/stable/generated/torch.nn.Dropout.html)"
      ]
    },
    {
      "cell_type": "code",
      "metadata": {
        "id": "Geui1VFQwVXk"
      },
      "source": [
        "class Net(nn.Module):\n",
        "    def __init__(self):\n",
        "        super(Net, self).__init__()\n",
        "\n",
        "        # 3x(Conv2d -> ReLU) -> MaxPool -> Dropout -> Flatten -> 2x(Linear ->  ReLU) -> Linear\n",
        "        self.relu = nn.ReLU()\n",
        "        self.dropout = nn.Dropout(0.3)\n",
        "        self.flatten = nn.Flatten(1,-1)\n",
        "        self.conv1 = nn.Conv2d(in_channels=1, out_channels=32, kernel_size=3, stride=1, padding=\"valid\")\n",
        "        self.conv2 = nn.Conv2d(in_channels=32, out_channels=64, kernel_size=3, stride=1, padding=\"valid\")\n",
        "        self.conv3 = nn.Conv2d(in_channels=64, out_channels=64, kernel_size=3, stride=1, padding=\"valid\")\n",
        "        self.maxpool = nn.MaxPool2d(kernel_size=2, stride=2)\n",
        "        self.fc1 = nn.Linear(in_features=7744, out_features=64)\n",
        "        self.fc2 = nn.Linear(in_features=64, out_features=64)\n",
        "        self.fc3 = nn.Linear(in_features=64, out_features=10)\n",
        "\n",
        "    def forward(self, x):\n",
        "        ### START CODE HEAR ≈ 9-18 lines\n",
        "        ## 3x(Conv2d -> ReLU) -> MaxPool -> Dropout -> Flatten -> 2x(Linear ->  ReLU) -> Linear\n",
        "        x = self.conv1(x)\n",
        "        x = self.relu(x)\n",
        "        x = self.conv2(x)\n",
        "        x = self.relu(x)\n",
        "        x = self.conv3(x)\n",
        "        x = self.relu(x)\n",
        "\n",
        "\n",
        "        x = self.maxpool(x)\n",
        "        x = self.dropout(x)\n",
        "\n",
        "        x = self.flatten(x)\n",
        "\n",
        "        x = self.fc1(x)\n",
        "        x = self.relu(x)\n",
        "        x = self.fc2(x)\n",
        "        x = self.relu(x)\n",
        "        x = self.fc3(x)\n",
        "\n",
        "        ### END CODE HERE\n",
        "        return x"
      ],
      "execution_count": 19,
      "outputs": []
    },
    {
      "cell_type": "code",
      "source": [
        "# Load model vào GPU, ví dụ: input = model().to(device)\n",
        "model = Net().to(device)\n",
        "model"
      ],
      "metadata": {
        "id": "oXLRs7zy7ygB",
        "colab": {
          "base_uri": "https://localhost:8080/"
        },
        "outputId": "bd025adb-29b8-4478-9161-23f7ce087d82"
      },
      "execution_count": 20,
      "outputs": [
        {
          "output_type": "execute_result",
          "data": {
            "text/plain": [
              "Net(\n",
              "  (relu): ReLU()\n",
              "  (dropout): Dropout(p=0.3, inplace=False)\n",
              "  (flatten): Flatten(start_dim=1, end_dim=-1)\n",
              "  (conv1): Conv2d(1, 32, kernel_size=(3, 3), stride=(1, 1), padding=valid)\n",
              "  (conv2): Conv2d(32, 64, kernel_size=(3, 3), stride=(1, 1), padding=valid)\n",
              "  (conv3): Conv2d(64, 64, kernel_size=(3, 3), stride=(1, 1), padding=valid)\n",
              "  (maxpool): MaxPool2d(kernel_size=2, stride=2, padding=0, dilation=1, ceil_mode=False)\n",
              "  (fc1): Linear(in_features=7744, out_features=64, bias=True)\n",
              "  (fc2): Linear(in_features=64, out_features=64, bias=True)\n",
              "  (fc3): Linear(in_features=64, out_features=10, bias=True)\n",
              ")"
            ]
          },
          "metadata": {},
          "execution_count": 20
        }
      ]
    },
    {
      "cell_type": "code",
      "source": [
        "test = torch.randn(1, 1, 28, 28).to(device)\n",
        "output = model(test)\n",
        "print(output.shape)"
      ],
      "metadata": {
        "colab": {
          "base_uri": "https://localhost:8080/"
        },
        "id": "HzW0yfxmOAeo",
        "outputId": "595a2a8e-b870-4107-8b93-b13828341070"
      },
      "execution_count": 21,
      "outputs": [
        {
          "output_type": "stream",
          "name": "stdout",
          "text": [
            "torch.Size([1, 10])\n"
          ]
        }
      ]
    },
    {
      "cell_type": "markdown",
      "source": [
        "## **Training phase**\n",
        "\n"
      ],
      "metadata": {
        "id": "g0tv4yZgCQs9"
      }
    },
    {
      "cell_type": "code",
      "metadata": {
        "id": "7ycsK9EWz1vc",
        "colab": {
          "base_uri": "https://localhost:8080/"
        },
        "outputId": "e65d25fc-1959-48a1-b05e-89c440880e35"
      },
      "source": [
        "# Define loss and optimizer\n",
        "criterion = nn.CrossEntropyLoss() # CrossEntropy\n",
        "optimizer = optim.Adam(params=model.parameters(), lr=learning_rate) # Adam Optimizer set params=model.parameters(), lr=learning_rate\n",
        "best_val_loss = 999\n",
        "\n",
        "# Loop for each epoch\n",
        "for epoch in range(1, epochs + 1):\n",
        "\n",
        "    # Quá trình training\n",
        "    model.train()\n",
        "    for batch_idx, (data, target) in enumerate(train_loader):\n",
        "        # Load dữ liệu vào GPU\n",
        "        data, target = data.to(device), target.to(device)\n",
        "\n",
        "        # Clear gradients cho mỗi batch\n",
        "        optimizer.zero_grad() # zero grad\n",
        "        output = model(data)\n",
        "\n",
        "        # Backpropagation, tính gradients\n",
        "        loss = criterion(output, target)\n",
        "        loss.backward() #backward\n",
        "\n",
        "        # Apply gradients để update lại tham số\n",
        "        optimizer.step() #update\n",
        "\n",
        "        # In ra thông tin về quá trình training\n",
        "        if batch_idx % display_step == 0:\n",
        "            print('Train Epoch {}: [{}/{} ({:.0f}%)]\\tTrain Loss: {:.6f}'.format(\n",
        "                epoch, batch_idx * len(data), len(train_loader.dataset),\n",
        "                100. * batch_idx / len(train_loader), loss.item()))\n",
        "\n",
        "    # Quá trình testing\n",
        "    model.eval()\n",
        "    test_loss = 0\n",
        "    correct = 0\n",
        "\n",
        "    # Set no grad cho quá trình testing\n",
        "    with torch.no_grad():\n",
        "        for data, target in test_loader:\n",
        "            # Load dữ liệu vào GPU\n",
        "            data, target = data.to(device), target.to(device)\n",
        "            output = model(data)\n",
        "            output = F.log_softmax(output,dim=1) # sử dụng hàm log_sotmax của pytorch để tính xác suất cho output, dim = 1\n",
        "            test_loss += criterion(output, target)\n",
        "            pred = output.argmax(dim=1, keepdim=True)\n",
        "            correct += pred.eq(target.view_as(pred)).sum().item()\n",
        "    test_loss /= len(test_loader)\n",
        "    if test_loss < best_val_loss:\n",
        "      best_val_loss = test_loss\n",
        "      torch.save(model.state_dict(), checkpoint)  # Lưu model path\n",
        "      print(\"***********    TEST_ACC = {:.2f}%    ***********\".format(correct/100))"
      ],
      "execution_count": 23,
      "outputs": [
        {
          "output_type": "stream",
          "name": "stdout",
          "text": [
            "Train Epoch 1: [0/60000 (0%)]\tTrain Loss: 2.294993\n",
            "Train Epoch 1: [6400/60000 (11%)]\tTrain Loss: 0.159533\n",
            "Train Epoch 1: [12800/60000 (21%)]\tTrain Loss: 0.179624\n",
            "Train Epoch 1: [19200/60000 (32%)]\tTrain Loss: 0.134173\n",
            "Train Epoch 1: [25600/60000 (43%)]\tTrain Loss: 0.141813\n",
            "Train Epoch 1: [32000/60000 (53%)]\tTrain Loss: 0.120675\n",
            "Train Epoch 1: [38400/60000 (64%)]\tTrain Loss: 0.106846\n",
            "Train Epoch 1: [44800/60000 (75%)]\tTrain Loss: 0.219081\n",
            "Train Epoch 1: [51200/60000 (85%)]\tTrain Loss: 0.282254\n",
            "Train Epoch 1: [57600/60000 (96%)]\tTrain Loss: 0.039612\n",
            "***********    TEST_ACC = 98.43%    ***********\n",
            "Train Epoch 2: [0/60000 (0%)]\tTrain Loss: 0.034738\n",
            "Train Epoch 2: [6400/60000 (11%)]\tTrain Loss: 0.122841\n",
            "Train Epoch 2: [12800/60000 (21%)]\tTrain Loss: 0.016213\n",
            "Train Epoch 2: [19200/60000 (32%)]\tTrain Loss: 0.087301\n",
            "Train Epoch 2: [25600/60000 (43%)]\tTrain Loss: 0.070412\n",
            "Train Epoch 2: [32000/60000 (53%)]\tTrain Loss: 0.097443\n",
            "Train Epoch 2: [38400/60000 (64%)]\tTrain Loss: 0.079957\n",
            "Train Epoch 2: [44800/60000 (75%)]\tTrain Loss: 0.140412\n",
            "Train Epoch 2: [51200/60000 (85%)]\tTrain Loss: 0.208021\n",
            "Train Epoch 2: [57600/60000 (96%)]\tTrain Loss: 0.021916\n",
            "***********    TEST_ACC = 98.51%    ***********\n"
          ]
        }
      ]
    },
    {
      "cell_type": "code",
      "metadata": {
        "id": "KC0dpWjs1Ivj",
        "colab": {
          "base_uri": "https://localhost:8080/"
        },
        "outputId": "1e74ac3f-577c-41d7-a773-771ec9455c28"
      },
      "source": [
        "# Load lại model đã train\n",
        "model.load_state_dict(torch.load(checkpoint))\n",
        "\n",
        "# Xem lại thông số của model\n",
        "model.eval()"
      ],
      "execution_count": 24,
      "outputs": [
        {
          "output_type": "stream",
          "name": "stderr",
          "text": [
            "<ipython-input-24-816cd243a513>:2: FutureWarning: You are using `torch.load` with `weights_only=False` (the current default value), which uses the default pickle module implicitly. It is possible to construct malicious pickle data which will execute arbitrary code during unpickling (See https://github.com/pytorch/pytorch/blob/main/SECURITY.md#untrusted-models for more details). In a future release, the default value for `weights_only` will be flipped to `True`. This limits the functions that could be executed during unpickling. Arbitrary objects will no longer be allowed to be loaded via this mode unless they are explicitly allowlisted by the user via `torch.serialization.add_safe_globals`. We recommend you start setting `weights_only=True` for any use case where you don't have full control of the loaded file. Please open an issue on GitHub for any issues related to this experimental feature.\n",
            "  model.load_state_dict(torch.load(checkpoint))\n"
          ]
        },
        {
          "output_type": "execute_result",
          "data": {
            "text/plain": [
              "Net(\n",
              "  (relu): ReLU()\n",
              "  (dropout): Dropout(p=0.3, inplace=False)\n",
              "  (flatten): Flatten(start_dim=1, end_dim=-1)\n",
              "  (conv1): Conv2d(1, 32, kernel_size=(3, 3), stride=(1, 1), padding=valid)\n",
              "  (conv2): Conv2d(32, 64, kernel_size=(3, 3), stride=(1, 1), padding=valid)\n",
              "  (conv3): Conv2d(64, 64, kernel_size=(3, 3), stride=(1, 1), padding=valid)\n",
              "  (maxpool): MaxPool2d(kernel_size=2, stride=2, padding=0, dilation=1, ceil_mode=False)\n",
              "  (fc1): Linear(in_features=7744, out_features=64, bias=True)\n",
              "  (fc2): Linear(in_features=64, out_features=64, bias=True)\n",
              "  (fc3): Linear(in_features=64, out_features=10, bias=True)\n",
              ")"
            ]
          },
          "metadata": {},
          "execution_count": 24
        }
      ]
    },
    {
      "cell_type": "markdown",
      "source": [
        "## **Prediction**"
      ],
      "metadata": {
        "id": "uVOTLx8zWfxl"
      }
    },
    {
      "cell_type": "code",
      "metadata": {
        "id": "CC260iYZ1xwt"
      },
      "source": [
        "# Lấy ra một batch trong tập test\n",
        "item = iter(test_loader)\n",
        "data, target = next(item)\n",
        "\n",
        "# Lấy random index của một phần tử trong batch đó\n",
        "test_idx = random.choice(range(len(data)))\n",
        "\n",
        "# Lấy một ví dụ trong tập test\n",
        "data = data[test_idx]\n",
        "target = target[test_idx]\n",
        "assert data.shape == (1, 28, 28)"
      ],
      "execution_count": 35,
      "outputs": []
    },
    {
      "cell_type": "code",
      "metadata": {
        "id": "kejuKZIY11hM"
      },
      "source": [
        "# Predict sử dụng model đã train\n",
        "def plot(data, model):\n",
        "  data = torch.unsqueeze(data, dim=0) # unsqueeze data\n",
        "  data = data.to(device) # Đưa data vào GPU\n",
        "  output = model(data)\n",
        "  output = torch.log_softmax(output, dim=1) # Tính xác suất từng class của output, sử dụng log_softmax, dim = 1\n",
        "  pred =  output.argmax(keepdim=True)# Lấy class có xác suất cao nhất, keep dim = True, sử dụng argmax\n",
        "  print(\"Predict Number : \", pred[0][0].detach().cpu().numpy())\n",
        "  plt.imshow(data[0][0].detach().cpu().numpy(), cmap='gray')\n",
        "  plt.show()"
      ],
      "execution_count": 33,
      "outputs": []
    },
    {
      "cell_type": "code",
      "metadata": {
        "id": "EAvIv7Mj2L3K",
        "colab": {
          "base_uri": "https://localhost:8080/",
          "height": 447
        },
        "outputId": "d5ce7203-c568-4bd6-8818-9be0230c470e"
      },
      "source": [
        "plot(data, model)"
      ],
      "execution_count": 36,
      "outputs": [
        {
          "output_type": "stream",
          "name": "stdout",
          "text": [
            "Predict Number :  9\n"
          ]
        },
        {
          "output_type": "display_data",
          "data": {
            "text/plain": [
              "<Figure size 640x480 with 1 Axes>"
            ],
            "image/png": "[encoded data removed]"
          },
          "metadata": {}
        }
      ]
    }
  ]
}