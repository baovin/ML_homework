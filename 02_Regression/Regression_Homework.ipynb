{
  "cells": [
    {
      "cell_type": "markdown",
      "metadata": {
        "id": "DpKRILceVF66"
      },
      "source": [
        "# Đề bài về nhà"
      ]
    },
    {
      "cell_type": "markdown",
      "metadata": {
        "id": "aM0QF5MmVF68"
      },
      "source": [
        "## Yêu cầu"
      ]
    },
    {
      "cell_type": "markdown",
      "metadata": {
        "id": "0HYoDZwRVF6-"
      },
      "source": [
        "- Tự viết code cho mô hình Linear Regression theo công thức đã được dạy trong buổi lý thuyết trên lớp.\n",
        "- Tự viết hàm dự đoán.\n",
        "- Huấn luyện cả mô hình của thư viện và mô hình mình tự viết.\n",
        "- In ra các trọng số: w0, w1, w2, ..., wn của cả 2 mô hình đã huấn luyện để quan sát và so sánh.\n",
        "- Dự đoán dữ liệu tập test bằng cả 2 mô hình (mô hình thư viện thì dùng hàm predict() của thư viện, mô hình tự viết dùng hàm dự đoán tự viết), in ra kết quả bằng Dataframe như trong bài thực hành trên lớp.\n",
        "- Tính RMSE trên tập test cho cả 2 mô hình và so sánh."
      ]
    },
    {
      "cell_type": "markdown",
      "metadata": {
        "id": "gW_-mLlLVF7A"
      },
      "source": [
        "## Dữ liệu"
      ]
    },
    {
      "cell_type": "markdown",
      "metadata": {
        "id": "FdALYKTxVF7B"
      },
      "source": [
        "Tập dữ liệu giá nhà ở Boston đã có sẵn trên sklearn, dữ liệu đã được chuẩn hóa và chia thành tập train, tập test"
      ]
    },
    {
      "cell_type": "code",
      "execution_count": 2,
      "metadata": {
        "id": "Jh2FDeLJVF7C"
      },
      "outputs": [],
      "source": [
        "import matplotlib.pyplot as plt\n",
        "import numpy as np\n",
        "import pandas as pd\n",
        "import math\n",
        "\n",
        "from sklearn import datasets, linear_model\n",
        "from sklearn.metrics import mean_squared_error, r2_score"
      ]
    },
    {
      "cell_type": "markdown",
      "metadata": {
        "id": "BVpPHnzGVF7D"
      },
      "source": [
        "# Đọc dữ liệu\n",
        "\n",
        "Dữ liệu về giá nhà ở Boston được hỗ trợ bởi sklearn, đọc dữ liệu thông qua hàm `datasets.load_boston()`\n",
        "\n",
        "Xem thêm các bộ dữ liệu khác tại https://scikit-learn.org/stable/datasets/index.html#toy-datasets.\n",
        "\n",
        "Dữ liệu được chia thành các thành phần data và target như tập diabetes. Dữ liệu cũng đã được chuẩn hóa, chỉ cần gọi ra và huấn luyện"
      ]
    },
    {
      "cell_type": "code",
      "execution_count": 8,
      "metadata": {},
      "outputs": [
        {
          "name": "stderr",
          "output_type": "stream",
          "text": [
            "<>:5: SyntaxWarning: invalid escape sequence '\\s'\n",
            "<>:5: SyntaxWarning: invalid escape sequence '\\s'\n",
            "/tmp/ipykernel_19953/397105037.py:5: SyntaxWarning: invalid escape sequence '\\s'\n",
            "  raw_df = pd.read_csv(data_url, sep=\"\\s+\", skiprows=22, header=None)\n"
          ]
        }
      ],
      "source": [
        "import pandas as pd\n",
        "import numpy as np\n",
        "\n",
        "data_url = \"http://lib.stat.cmu.edu/datasets/boston\"\n",
        "raw_df = pd.read_csv(data_url, sep=\"\\s+\", skiprows=22, header=None)\n",
        "dataset = np.hstack([raw_df.values[::2, :], raw_df.values[1::2, :2]])\n",
        "target = raw_df.values[1::2, 2]"
      ]
    },
    {
      "cell_type": "code",
      "execution_count": 9,
      "metadata": {},
      "outputs": [],
      "source": [
        "# Create a DataFrame\n",
        "dataset = pd.DataFrame(np.hstack([dataset, target.reshape(-1, 1)]))\n"
      ]
    },
    {
      "cell_type": "code",
      "execution_count": 11,
      "metadata": {
        "id": "66uZJ4oIVF7E",
        "outputId": "bc95e0e0-893b-4b37-995f-a55d90bb227f"
      },
      "outputs": [
        {
          "name": "stdout",
          "output_type": "stream",
          "text": [
            "Số chiều dữ liệu input:  (506, 14)\n",
            "Số chiều dữ liệu target:  (506,)\n",
            "\n",
            "5 mẫu dữ liệu đầu tiên:\n",
            "input:          0     1     2    3      4      5     6       7    8      9     10  \\\n",
            "0  0.00632  18.0  2.31  0.0  0.538  6.575  65.2  4.0900  1.0  296.0  15.3   \n",
            "1  0.02731   0.0  7.07  0.0  0.469  6.421  78.9  4.9671  2.0  242.0  17.8   \n",
            "2  0.02729   0.0  7.07  0.0  0.469  7.185  61.1  4.9671  2.0  242.0  17.8   \n",
            "3  0.03237   0.0  2.18  0.0  0.458  6.998  45.8  6.0622  3.0  222.0  18.7   \n",
            "4  0.06905   0.0  2.18  0.0  0.458  7.147  54.2  6.0622  3.0  222.0  18.7   \n",
            "\n",
            "       11    12    13  \n",
            "0  396.90  4.98  24.0  \n",
            "1  396.90  9.14  21.6  \n",
            "2  392.83  4.03  34.7  \n",
            "3  394.63  2.94  33.4  \n",
            "4  396.90  5.33  36.2  \n",
            "target:  [24.  21.6 34.7 33.4 36.2]\n"
          ]
        }
      ],
      "source": [
        "# lay du lieu dataset - du lieu ve giá nhà\n",
        "\n",
        "\n",
        "print(\"Số chiều dữ liệu input: \", dataset.shape)\n",
        "print(\"Số chiều dữ liệu target: \", target.shape)\n",
        "print()\n",
        "\n",
        "print(\"5 mẫu dữ liệu đầu tiên:\")\n",
        "print(\"input: \", dataset[:5])\n",
        "print(\"target: \",target[:5])"
      ]
    },
    {
      "cell_type": "code",
      "execution_count": 15,
      "metadata": {},
      "outputs": [],
      "source": [
        "dataset.describe()\n",
        "norm_dataset = (dataset - dataset.mean()) / dataset.std()"
      ]
    },
    {
      "cell_type": "markdown",
      "metadata": {
        "id": "Hm_QTyBMVF7F"
      },
      "source": [
        "**Chia dữ liệu làm 2 phần training 362 mẫu và testing 80 mẫu**"
      ]
    },
    {
      "cell_type": "code",
      "execution_count": 18,
      "metadata": {},
      "outputs": [
        {
          "name": "stdout",
          "output_type": "stream",
          "text": [
            "Số chiều dữ liệu train:  (400, 14)\n",
            "Số chiều dữ liệu test:  (106, 14)\n",
            "\n"
          ]
        }
      ],
      "source": [
        "# chia dữ liệu thành 2 phần train và test\n",
        "dataset_X_train = norm_dataset[:400]\n",
        "dataset_X_test = norm_dataset[400:]\n",
        "\n",
        "dataset_y_train = target[:400]\n",
        "dataset_y_test = target[400:]\n",
        "\n",
        "print(\"Số chiều dữ liệu train: \", dataset_X_train.shape)\n",
        "print(\"Số chiều dữ liệu test: \", dataset_X_test.shape)\n",
        "print()\n",
        "\n",
        "\n"
      ]
    },
    {
      "cell_type": "markdown",
      "metadata": {
        "id": "50X-5JHaVF7I"
      },
      "source": [
        "# Xây dựng mô hình"
      ]
    },
    {
      "cell_type": "markdown",
      "metadata": {
        "id": "I8A-4uhXVF7J"
      },
      "source": [
        "## Xây dựng và kiểm thử mô hình bằng thư viện"
      ]
    },
    {
      "cell_type": "code",
      "execution_count": 20,
      "metadata": {},
      "outputs": [
        {
          "name": "stdout",
          "output_type": "stream",
          "text": [
            "Accuracy:  1.0\n"
          ]
        }
      ],
      "source": [
        "\n",
        "regr = linear_model.LinearRegression()\n",
        "regr.fit(dataset_X_train, dataset_y_train)\n",
        "acc = regr.score(dataset_X_test, dataset_y_test)\n",
        "print(\"Accuracy: \", acc)\n"
      ]
    },
    {
      "cell_type": "markdown",
      "metadata": {
        "id": "ZYEGWf1GVF7K"
      },
      "source": [
        "## Xây dựng và kiểm thử mô hình Linear Regression tự viết"
      ]
    },
    {
      "cell_type": "code",
      "execution_count": 22,
      "metadata": {},
      "outputs": [
        {
          "name": "stdout",
          "output_type": "stream",
          "text": [
            "w:  [ 2.25328063e+01  4.06341627e-14  5.79536419e-14  4.48530102e-14\n",
            "  1.19904087e-14  1.00475184e-14 -4.89885910e-15  7.27196081e-15\n",
            " -1.21569421e-14  1.13242749e-14 -1.07691633e-13  4.15778523e-14\n",
            "  1.67643677e-14 -1.69864123e-14  9.19710409e+00]\n",
            "Accuracy:  0.9999999999999936\n"
          ]
        }
      ],
      "source": [
        "\n",
        "def linear_regression(X, y):\n",
        "    X = np.hstack([np.ones((X.shape[0], 1)), X])\n",
        "    w = np.linalg.inv(X.T @ X) @ X.T @ y\n",
        "    return w\n",
        "\n",
        "w = linear_regression(dataset_X_train, dataset_y_train)\n",
        "print(\"w: \", w)\n",
        "\n",
        "def predict(X, w):\n",
        "    X = np.hstack([np.ones((X.shape[0], 1)), X])\n",
        "    return X @ w\n",
        "\n",
        "def accuracy(y_pred, y_true):\n",
        "    return 1 - np.mean(np.abs(y_pred - y_true) / y_true)\n",
        "\n",
        "y_pred = predict(dataset_X_test, w)\n",
        "acc = accuracy(y_pred, dataset_y_test)\n",
        "print(\"Accuracy: \", acc)\n",
        "\n"
      ]
    }
  ],
  "metadata": {
    "colab": {
      "provenance": []
    },
    "kernelspec": {
      "display_name": "Python 3",
      "language": "python",
      "name": "python3"
    },
    "language_info": {
      "codemirror_mode": {
        "name": "ipython",
        "version": 3
      },
      "file_extension": ".py",
      "mimetype": "text/x-python",
      "name": "python",
      "nbconvert_exporter": "python",
      "pygments_lexer": "ipython3",
      "version": "3.12.1"
    }
  },
  "nbformat": 4,
  "nbformat_minor": 0
}
