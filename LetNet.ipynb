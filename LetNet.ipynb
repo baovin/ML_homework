{
  "nbformat": 4,
  "nbformat_minor": 0,
  "metadata": {
    "colab": {
      "provenance": [],
      "gpuType": "T4",
      "include_colab_link": true
    },
    "kernelspec": {
      "name": "python3",
      "display_name": "Python 3"
    },
    "language_info": {
      "name": "python"
    },
    "accelerator": "GPU"
  },
  "cells": [
    {
      "cell_type": "markdown",
      "metadata": {
        "id": "view-in-github",
        "colab_type": "text"
      },
      "source": [
        "<a href=\"https://colab.research.google.com/github/baovin/ML_homework/blob/main/LetNet.ipynb\" target=\"_parent\"><img src=\"https://colab.research.google.com/assets/colab-badge.svg\" alt=\"Open In Colab\"/></a>"
      ]
    },
    {
      "cell_type": "markdown",
      "source": [
        "## **Giới thiệu**\n",
        "- Trong bài tập về nhà lần này, chúng ta sẽ implement mạng LeNet sử dụng PyTorch, và chúng ta sẽ train và đánh giá mô hình trên tập dữ liệu FashionMNIST.\n",
        "- Dưới đây là kiến trúc mô hình mà chúng ta sẽ implement: ![](https://drive.google.com/uc?export=view&id=1MyiyOZnioz2WegCNjhyv_VXETFPYn_yN)\n",
        "\n"
      ],
      "metadata": {
        "id": "KJTHW6i1SRgz"
      }
    },
    {
      "cell_type": "markdown",
      "source": [
        "### **FashionMNIST dataset**\n",
        "Giới thiệu về Dataset\n",
        "\n",
        "Fashion-MNIST là một tập dữ liệu về các hình ảnh bài viết của Zalando — bao gồm một tập huấn luyện gồm 60.000 mẫu và một tập test 10.000 mẫu. Mỗi mẫu là một hình ảnh grayscale 28x28, được liên kết với một nhãn từ 10 lớp. Zalando dự định Fashion-MNIST sẽ phục vụ như một sự thay thế trực tiếp cho tập dữ liệu MNIST ban đầu cho các thuật toán máy học điểm chuẩn. Nó có cùng kích thước hình ảnh và cấu trúc của các phần đào tạo và thử nghiệm.\n",
        "\n",
        "Mỗi hình ảnh có chiều cao 28 pixel và chiều rộng 28 pixel, tổng cộng là 784 pixel. Mỗi pixel có một giá trị pixel duy nhất được liên kết với nó, cho biết độ sáng hoặc tối của pixel đó, với các con số cao hơn có nghĩa là tối hơn. Giá trị pixel này là một số nguyên từ 0 đến 255. Tập dữ liệu đào tạo và kiểm tra có 785 cột. Cột đầu tiên bao gồm các nhãn lớp (xem ở trên) và đại diện cho mặt hàng quần áo. Phần còn lại của các cột chứa các giá trị pixel của hình ảnh được liên kết.\n",
        "\n",
        "**Label**\n",
        "\n",
        "0 T-shirt/top\n",
        "\n",
        "1 Trouser\n",
        "\n",
        "2 Pullover\n",
        "\n",
        "3 Dress\n",
        "\n",
        "4 Coat\n",
        "\n",
        "5 Sandal\n",
        "\n",
        "6 Shirt\n",
        "\n",
        "7 Sneaker\n",
        "\n",
        "8 Bag\n",
        "\n",
        "9 Ankle boot"
      ],
      "metadata": {
        "id": "sdVtBXprTOBR"
      }
    },
    {
      "cell_type": "markdown",
      "source": [
        "## Import Libraries"
      ],
      "metadata": {
        "id": "zRURmtRwqEit"
      }
    },
    {
      "cell_type": "code",
      "metadata": {
        "id": "GZ19LKc1sWwt"
      },
      "source": [
        "import torch\n",
        "import torchvision\n",
        "import torch.nn.functional as F\n",
        "import torchvision.transforms as transforms\n",
        "import numpy as np\n",
        "import matplotlib.pyplot as plt\n",
        "from torch import nn\n",
        "from torch import optim"
      ],
      "execution_count": 1,
      "outputs": []
    },
    {
      "cell_type": "markdown",
      "metadata": {
        "id": "azKN_M4XqLOg"
      },
      "source": [
        "## Setup\n",
        "\n",
        "- Chúng ta sẽ setup một số hyper-parameters cũng như một số giá trị cần dùng theo hướng dẫn nhé\n",
        "- Ở đây, các bạn vào Runtime, chọn Change the runtime type và chọn GPU nhé."
      ]
    },
    {
      "cell_type": "markdown",
      "source": [
        "### Download MNIST dataset in local system"
      ],
      "metadata": {
        "id": "ZXh0tUwrsO13"
      }
    },
    {
      "cell_type": "code",
      "source": [
        "# Định nghĩa tham số transform\n",
        "transform=transforms.Compose([\n",
        "    transforms.ToTensor(), # Chuyển ảnh sang dạng Tensor\n",
        "    transforms.Normalize((0.5,), (0.5,)) # Normalize ảnh với mean và standard deviation là 0.5\n",
        "    ])\n",
        "\n",
        "# Load the train and test data\n",
        "train_set = torchvision.datasets.FashionMNIST(root = \"data\", train=True, download=True, transform = transform)\n",
        "test_set = torchvision.datasets.FashionMNIST(root = \"data\", train=False, download=True, transform = transform)\n",
        "\n",
        "torch.manual_seed(0)"
      ],
      "metadata": {
        "id": "OtM8WibZsURb",
        "colab": {
          "base_uri": "https://localhost:8080/"
        },
        "outputId": "e94e18d9-9837-4095-a23f-fde2f932591f"
      },
      "execution_count": 2,
      "outputs": [
        {
          "output_type": "stream",
          "name": "stdout",
          "text": [
            "Downloading http://fashion-mnist.s3-website.eu-central-1.amazonaws.com/train-images-idx3-ubyte.gz\n",
            "Downloading http://fashion-mnist.s3-website.eu-central-1.amazonaws.com/train-images-idx3-ubyte.gz to data/FashionMNIST/raw/train-images-idx3-ubyte.gz\n"
          ]
        },
        {
          "output_type": "stream",
          "name": "stderr",
          "text": [
            "100%|██████████| 26421880/26421880 [00:01<00:00, 14713580.96it/s]\n"
          ]
        },
        {
          "output_type": "stream",
          "name": "stdout",
          "text": [
            "Extracting data/FashionMNIST/raw/train-images-idx3-ubyte.gz to data/FashionMNIST/raw\n",
            "\n",
            "Downloading http://fashion-mnist.s3-website.eu-central-1.amazonaws.com/train-labels-idx1-ubyte.gz\n",
            "Downloading http://fashion-mnist.s3-website.eu-central-1.amazonaws.com/train-labels-idx1-ubyte.gz to data/FashionMNIST/raw/train-labels-idx1-ubyte.gz\n"
          ]
        },
        {
          "output_type": "stream",
          "name": "stderr",
          "text": [
            "100%|██████████| 29515/29515 [00:00<00:00, 316074.19it/s]\n"
          ]
        },
        {
          "output_type": "stream",
          "name": "stdout",
          "text": [
            "Extracting data/FashionMNIST/raw/train-labels-idx1-ubyte.gz to data/FashionMNIST/raw\n",
            "\n",
            "Downloading http://fashion-mnist.s3-website.eu-central-1.amazonaws.com/t10k-images-idx3-ubyte.gz\n",
            "Downloading http://fashion-mnist.s3-website.eu-central-1.amazonaws.com/t10k-images-idx3-ubyte.gz to data/FashionMNIST/raw/t10k-images-idx3-ubyte.gz\n"
          ]
        },
        {
          "output_type": "stream",
          "name": "stderr",
          "text": [
            "100%|██████████| 4422102/4422102 [00:01<00:00, 2396028.53it/s]\n"
          ]
        },
        {
          "output_type": "stream",
          "name": "stdout",
          "text": [
            "Extracting data/FashionMNIST/raw/t10k-images-idx3-ubyte.gz to data/FashionMNIST/raw\n",
            "\n",
            "Downloading http://fashion-mnist.s3-website.eu-central-1.amazonaws.com/t10k-labels-idx1-ubyte.gz\n",
            "Downloading http://fashion-mnist.s3-website.eu-central-1.amazonaws.com/t10k-labels-idx1-ubyte.gz to data/FashionMNIST/raw/t10k-labels-idx1-ubyte.gz\n"
          ]
        },
        {
          "output_type": "stream",
          "name": "stderr",
          "text": [
            "100%|██████████| 5148/5148 [00:00<00:00, 22306071.27it/s]\n"
          ]
        },
        {
          "output_type": "stream",
          "name": "stdout",
          "text": [
            "Extracting data/FashionMNIST/raw/t10k-labels-idx1-ubyte.gz to data/FashionMNIST/raw\n",
            "\n"
          ]
        },
        {
          "output_type": "execute_result",
          "data": {
            "text/plain": [
              "<torch._C.Generator at 0x79a2e237cbd0>"
            ]
          },
          "metadata": {},
          "execution_count": 2
        }
      ]
    },
    {
      "cell_type": "code",
      "source": [
        "# Kiểm thử số chiều của dataset\n",
        "print('The dimension of the train data:')\n",
        "print(train_set.data.size())\n",
        "print('\\nThe dimension of the train labels:')\n",
        "print(train_set.targets.size())\n",
        "\n",
        "print('\\n\\nThe dimension of the validation data:')\n",
        "print(test_set.data.size())\n",
        "print('\\nThe dimension of the validation labels:')\n",
        "print(test_set.targets.size())"
      ],
      "metadata": {
        "id": "ylBAXk7FXCNv",
        "colab": {
          "base_uri": "https://localhost:8080/"
        },
        "outputId": "b40ba0c8-4657-44aa-ce38-3aea985f05c3"
      },
      "execution_count": 3,
      "outputs": [
        {
          "output_type": "stream",
          "name": "stdout",
          "text": [
            "The dimension of the train data:\n",
            "torch.Size([60000, 28, 28])\n",
            "\n",
            "The dimension of the train labels:\n",
            "torch.Size([60000])\n",
            "\n",
            "\n",
            "The dimension of the validation data:\n",
            "torch.Size([10000, 28, 28])\n",
            "\n",
            "The dimension of the validation labels:\n",
            "torch.Size([10000])\n"
          ]
        }
      ]
    },
    {
      "cell_type": "markdown",
      "source": [
        "Visualization of FashionMNIST dataset"
      ],
      "metadata": {
        "id": "3kX1gJy0vN-c"
      }
    },
    {
      "cell_type": "code",
      "source": [
        "figure = plt.figure(figsize=(10, 8))\n",
        "cols, rows = 5, 5\n",
        "for i in range(1, cols * rows + 1):\n",
        "    sample_idx = torch.randint(len(train_set), size=(1,)).item()\n",
        "    img, label = train_set[sample_idx]\n",
        "    figure.add_subplot(rows, cols, i)\n",
        "    plt.title(label)\n",
        "    plt.axis(\"off\")\n",
        "    plt.imshow(img.squeeze(), cmap=\"gray\")\n",
        "plt.show()"
      ],
      "metadata": {
        "id": "XmIAg1JjvmMh",
        "colab": {
          "base_uri": "https://localhost:8080/",
          "height": 675
        },
        "outputId": "0432c247-aff7-42ae-9e88-b86a04144a40"
      },
      "execution_count": 4,
      "outputs": [
        {
          "output_type": "display_data",
          "data": {
            "text/plain": [
              "<Figure size 1000x800 with 25 Axes>"
            ],
            "image/png": "[encoded data removed]"
          },
          "metadata": {}
        }
      ]
    },
    {
      "cell_type": "markdown",
      "source": [
        "### Hyperparameters"
      ],
      "metadata": {
        "id": "Gbr4IZpTJSgr"
      }
    },
    {
      "cell_type": "code",
      "source": [
        "# Số classes trong tập FashionMNIST\n",
        "num_classes = 10\n",
        "\n",
        "# Số epoch\n",
        "epochs = 2\n",
        "\n",
        "# Các tham số cần thiết trong quá trình training\n",
        "learning_rate = 0.001\n",
        "batch_size = 128\n",
        "display_step = 100\n",
        "\n",
        "# Model path\n",
        "checkpoint = 'model.pth'\n",
        "\n",
        "# Khởi tạo một số list để lưu loss và accuracy\n",
        "loss_epoch_array = []\n",
        "train_accuracy = []\n",
        "test_accuracy = []\n",
        "valid_accuracy = []\n",
        "\n",
        "# device: cuda\n",
        "device = torch.device('cuda' if torch.cuda.is_available() else 'cpu')\n",
        "device"
      ],
      "metadata": {
        "id": "YGR1-nRKIvrt",
        "colab": {
          "base_uri": "https://localhost:8080/"
        },
        "outputId": "3857ff23-1263-4711-a862-cab4b161128c"
      },
      "execution_count": 5,
      "outputs": [
        {
          "output_type": "execute_result",
          "data": {
            "text/plain": [
              "device(type='cuda')"
            ]
          },
          "metadata": {},
          "execution_count": 5
        }
      ]
    },
    {
      "cell_type": "markdown",
      "source": [
        "### Preparing data for training with DataLoaders\n",
        "- Để tiện cho việc xử lý dữ dữ liệu vào các batches cũng như reshuffle dữ liệu qua mỗi epoch thì chúng ta sẽ sử dụng hàm sẵn có của PyTorch là [DataLoader](https://pytorch.org/docs/stable/data.html)"
      ],
      "metadata": {
        "id": "sKxHkWH6vxsU"
      }
    },
    {
      "cell_type": "code",
      "source": [
        "train_loader = torch.utils.data.DataLoader(train_set , batch_size=32, shuffle = False)\n",
        "test_loader = torch.utils.data.DataLoader(test_set, batch_size=32, shuffle = False)"
      ],
      "metadata": {
        "id": "ElcQVzmhw9oX"
      },
      "execution_count": 6,
      "outputs": []
    },
    {
      "cell_type": "markdown",
      "metadata": {
        "id": "J6EMkw45qTuh"
      },
      "source": [
        "## Model\n",
        "\n",
        "- Dưới đây là kiến trúc mô hình mà chúng ta sẽ implement: ![](https://drive.google.com/uc?export=view&id=1MyiyOZnioz2WegCNjhyv_VXETFPYn_yN)"
      ]
    },
    {
      "cell_type": "code",
      "metadata": {
        "id": "Geui1VFQwVXk"
      },
      "source": [
        "class CNN_Net(nn.Module):\n",
        "\n",
        "    def __init__(self):\n",
        "        super(CNN_Net, self).__init__()\n",
        "        self.conv1 = nn.Conv2d(1, 32, 5)\n",
        "        self.conv2 = nn.Conv2d(32, 64, 5)\n",
        "        self.max_pool1 = nn.MaxPool2d(2, 2)\n",
        "        self.max_pool2 = nn.MaxPool2d(2, 2)\n",
        "        self.fc1 = nn.Linear(1024, 256)\n",
        "        self.fc2 = nn.Linear(256, 10)\n",
        "        # self.fc3 = nn.Linear(None, None)\n",
        "        self.dropout = nn.Dropout(p=0.3)\n",
        "        self.flatten = nn.Flatten()\n",
        "        self.relu = nn.ReLU()\n",
        "\n",
        "    def forward(self, x):\n",
        "        ### START CODE HERE ≈ 9-15 lines\n",
        "        x = self.conv1(x)\n",
        "        x = self.relu(x)\n",
        "        x = self.max_pool1(x)\n",
        "        x = self.conv2(x)\n",
        "        x = self.relu(x)\n",
        "        x = self.max_pool2(x)\n",
        "\n",
        "        x = self.flatten(x)\n",
        "        x = self.fc1(x)\n",
        "        x = self.relu(x)\n",
        "        x = self.dropout(x)\n",
        "        x = self.fc2(x)\n",
        "\n",
        "        ### END CODE HERE\n",
        "        return x"
      ],
      "execution_count": 7,
      "outputs": []
    },
    {
      "cell_type": "markdown",
      "source": [
        "## Training phase\n",
        "\n"
      ],
      "metadata": {
        "id": "g0tv4yZgCQs9"
      }
    },
    {
      "cell_type": "markdown",
      "source": [
        "### Training loop"
      ],
      "metadata": {
        "id": "p3yC8RaBMEy7"
      }
    },
    {
      "cell_type": "code",
      "source": [
        "# Định nghĩa hàm khởi tạo tham số\n",
        "def weights_init(model):\n",
        "    if isinstance(model, nn.Linear):\n",
        "        # Xavier Distribution\n",
        "        torch.nn.init.xavier_uniform_(model.weight)\n",
        "\n",
        "# Định nghĩa hàm train\n",
        "def train(dataloader, epoch):\n",
        "    loss_epoch = 0\n",
        "    for i, (data,targets) in enumerate(dataloader):\n",
        "        # Đưa dữ liệu vào GPU\n",
        "        data, targets = data.to(device), targets.to(device)\n",
        "\n",
        "        # Clear gradient\n",
        "        optimizer.zero_grad()\n",
        "\n",
        "        # Forward pass\n",
        "        outputs = cnn_net(data)\n",
        "\n",
        "        # Backpropagation, compute gradients\n",
        "        loss = loss_function(outputs, targets)\n",
        "        loss.backward()\n",
        "\n",
        "        # Apply gradients\n",
        "        optimizer.step()\n",
        "\n",
        "        # Lưu lại loss\n",
        "        loss_epoch += loss.item()\n",
        "        if i % display_step == 0:\n",
        "            accuracy = float(test(test_loader))\n",
        "            print('Train Epoch: {} [{}/{} ({:.0f}%)]\\tLoss: {:.4f}, Accuracy: {:.4f}%'.format(\n",
        "                epoch + 1, i * 32, len(dataloader.dataset), 100.0 * i / len(dataloader),\n",
        "                loss.item(), accuracy))\n",
        "    return loss_epoch\n",
        "\n",
        "# Định nghĩa hàm test\n",
        "def test(dataloader):\n",
        "    test_loss = 0\n",
        "    correct = 0\n",
        "    for i, (data, targets) in enumerate(dataloader):\n",
        "        data, targets = data.to(device), targets.to(device)\n",
        "        outputs = cnn_net(data)\n",
        "        _, pred = torch.max(outputs, 1)\n",
        "        test_loss += targets.size(0)\n",
        "        correct += torch.sum(pred == targets)\n",
        "    return 100.0 * correct / test_loss"
      ],
      "metadata": {
        "id": "F3cJ77VbY7XQ"
      },
      "execution_count": 8,
      "outputs": []
    },
    {
      "cell_type": "code",
      "source": [
        "# Tạo một instance của model và vào GPU\n",
        "cnn_net = CNN_Net().to(device)\n",
        "\n",
        "# Khỏi tạo weight với hàm đã tạo\n",
        "cnn_net.apply(weights_init)\n",
        "\n",
        "# Sử dụng loss funtion Cross Entropy Loss\n",
        "loss_function = nn.CrossEntropyLoss()\n",
        "\n",
        "# Sử dụng Adam optimizer\n",
        "optimizer = optim.Adam(cnn_net.parameters(), lr=learning_rate)\n",
        "\n",
        "# Print structure of model\n",
        "print(cnn_net)"
      ],
      "metadata": {
        "id": "eZW7WsUacCN0",
        "colab": {
          "base_uri": "https://localhost:8080/"
        },
        "outputId": "92b0d2f1-2e34-4be1-b3d4-d37eb50fbd25"
      },
      "execution_count": 9,
      "outputs": [
        {
          "output_type": "stream",
          "name": "stdout",
          "text": [
            "CNN_Net(\n",
            "  (conv1): Conv2d(1, 32, kernel_size=(5, 5), stride=(1, 1))\n",
            "  (conv2): Conv2d(32, 64, kernel_size=(5, 5), stride=(1, 1))\n",
            "  (max_pool1): MaxPool2d(kernel_size=2, stride=2, padding=0, dilation=1, ceil_mode=False)\n",
            "  (max_pool2): MaxPool2d(kernel_size=2, stride=2, padding=0, dilation=1, ceil_mode=False)\n",
            "  (fc1): Linear(in_features=1024, out_features=256, bias=True)\n",
            "  (fc2): Linear(in_features=256, out_features=10, bias=True)\n",
            "  (dropout): Dropout(p=0.3, inplace=False)\n",
            "  (flatten): Flatten(start_dim=1, end_dim=-1)\n",
            "  (relu): ReLU()\n",
            ")\n"
          ]
        }
      ]
    },
    {
      "cell_type": "code",
      "metadata": {
        "id": "7ycsK9EWz1vc",
        "colab": {
          "base_uri": "https://localhost:8080/"
        },
        "outputId": "32239913-8b59-4fe7-e42c-551bb92a828b"
      },
      "source": [
        "# Driver code to iterate through epochs and store loss and accuracy\n",
        "for epoch in range(epochs):\n",
        "    loss_epoch = 0\n",
        "    loss_epoch = train(train_loader, epoch)\n",
        "    loss_epoch_array.append(loss_epoch)\n",
        "\n",
        "    train_accuracy.append(test(train_loader))\n",
        "    valid_accuracy.append(test(test_loader))\n",
        "    print(\"Epoch {}: loss: {:.4f}, train accuracy: {:.4f}, valid accuracy:{:.4f}\".format(epoch + 1,\n",
        "                                        loss_epoch_array[-1], train_accuracy[-1], valid_accuracy[-1]))"
      ],
      "execution_count": 10,
      "outputs": [
        {
          "output_type": "stream",
          "name": "stdout",
          "text": [
            "Train Epoch: 1 [0/60000 (0%)]\tLoss: 2.3806, Accuracy: 20.7500%\n",
            "Train Epoch: 1 [3200/60000 (5%)]\tLoss: 0.7171, Accuracy: 75.5300%\n",
            "Train Epoch: 1 [6400/60000 (11%)]\tLoss: 0.4109, Accuracy: 77.4000%\n",
            "Train Epoch: 1 [9600/60000 (16%)]\tLoss: 0.6914, Accuracy: 81.5400%\n",
            "Train Epoch: 1 [12800/60000 (21%)]\tLoss: 0.3034, Accuracy: 82.1800%\n",
            "Train Epoch: 1 [16000/60000 (27%)]\tLoss: 0.6469, Accuracy: 83.6100%\n",
            "Train Epoch: 1 [19200/60000 (32%)]\tLoss: 0.3585, Accuracy: 83.8300%\n",
            "Train Epoch: 1 [22400/60000 (37%)]\tLoss: 0.2630, Accuracy: 84.3000%\n",
            "Train Epoch: 1 [25600/60000 (43%)]\tLoss: 0.6550, Accuracy: 85.5000%\n",
            "Train Epoch: 1 [28800/60000 (48%)]\tLoss: 0.5498, Accuracy: 85.7300%\n",
            "Train Epoch: 1 [32000/60000 (53%)]\tLoss: 0.5997, Accuracy: 84.6100%\n",
            "Train Epoch: 1 [35200/60000 (59%)]\tLoss: 0.3668, Accuracy: 85.5800%\n",
            "Train Epoch: 1 [38400/60000 (64%)]\tLoss: 0.2145, Accuracy: 86.2500%\n",
            "Train Epoch: 1 [41600/60000 (69%)]\tLoss: 0.5685, Accuracy: 87.0400%\n",
            "Train Epoch: 1 [44800/60000 (75%)]\tLoss: 0.6238, Accuracy: 85.4300%\n",
            "Train Epoch: 1 [48000/60000 (80%)]\tLoss: 0.4621, Accuracy: 87.1700%\n",
            "Train Epoch: 1 [51200/60000 (85%)]\tLoss: 0.2726, Accuracy: 87.2300%\n",
            "Train Epoch: 1 [54400/60000 (91%)]\tLoss: 0.4673, Accuracy: 87.0800%\n",
            "Train Epoch: 1 [57600/60000 (96%)]\tLoss: 0.3555, Accuracy: 87.0300%\n",
            "Epoch 1: loss: 829.4659, train accuracy: 87.5550, valid accuracy:86.8500\n",
            "Train Epoch: 2 [0/60000 (0%)]\tLoss: 0.2181, Accuracy: 86.9900%\n",
            "Train Epoch: 2 [3200/60000 (5%)]\tLoss: 0.4476, Accuracy: 87.1000%\n",
            "Train Epoch: 2 [6400/60000 (11%)]\tLoss: 0.2128, Accuracy: 87.6600%\n",
            "Train Epoch: 2 [9600/60000 (16%)]\tLoss: 0.3777, Accuracy: 87.8800%\n",
            "Train Epoch: 2 [12800/60000 (21%)]\tLoss: 0.2435, Accuracy: 88.2500%\n",
            "Train Epoch: 2 [16000/60000 (27%)]\tLoss: 0.5476, Accuracy: 88.2400%\n",
            "Train Epoch: 2 [19200/60000 (32%)]\tLoss: 0.3032, Accuracy: 88.0300%\n",
            "Train Epoch: 2 [22400/60000 (37%)]\tLoss: 0.2646, Accuracy: 87.5000%\n",
            "Train Epoch: 2 [25600/60000 (43%)]\tLoss: 0.4938, Accuracy: 88.2400%\n",
            "Train Epoch: 2 [28800/60000 (48%)]\tLoss: 0.3578, Accuracy: 88.5000%\n",
            "Train Epoch: 2 [32000/60000 (53%)]\tLoss: 0.5290, Accuracy: 87.3700%\n",
            "Train Epoch: 2 [35200/60000 (59%)]\tLoss: 0.2820, Accuracy: 88.1000%\n",
            "Train Epoch: 2 [38400/60000 (64%)]\tLoss: 0.4112, Accuracy: 87.5500%\n",
            "Train Epoch: 2 [41600/60000 (69%)]\tLoss: 0.3892, Accuracy: 88.9100%\n",
            "Train Epoch: 2 [44800/60000 (75%)]\tLoss: 0.6507, Accuracy: 88.0800%\n",
            "Train Epoch: 2 [48000/60000 (80%)]\tLoss: 0.4089, Accuracy: 88.7900%\n",
            "Train Epoch: 2 [51200/60000 (85%)]\tLoss: 0.2110, Accuracy: 88.7200%\n",
            "Train Epoch: 2 [54400/60000 (91%)]\tLoss: 0.2878, Accuracy: 88.8700%\n",
            "Train Epoch: 2 [57600/60000 (96%)]\tLoss: 0.3014, Accuracy: 88.8700%\n",
            "Epoch 2: loss: 562.6251, train accuracy: 89.9967, valid accuracy:88.4000\n"
          ]
        }
      ]
    },
    {
      "cell_type": "code",
      "source": [
        "# Plot model history\n",
        "train_accuracy = [x.cpu().numpy() for x in train_accuracy] # Move tensors to CPU and convert to NumPy\n",
        "valid_accuracy = [x.cpu().numpy() for x in valid_accuracy] # Move tensors to CPU and convert to NumPy\n"
      ],
      "metadata": {
        "id": "mQm2jU9_ZYSv",
        "collapsed": true
      },
      "execution_count": 11,
      "outputs": []
    },
    {
      "cell_type": "code",
      "source": [
        "plt.figure(figsize=(12,5))\n",
        "# plt.rcParams['figure.dpi'] = 300\n",
        "plt.plot(range(epochs), train_accuracy, 'g', label='Training accuracy')\n",
        "plt.plot(range(epochs), valid_accuracy, 'b', label='Test accuracy')\n",
        "plt.title('Training and Test accuracy')\n",
        "plt.xlabel('Epochs')\n",
        "plt.ylabel('Accuracy')\n",
        "plt.legend()\n",
        "plt.show()"
      ],
      "metadata": {
        "colab": {
          "base_uri": "https://localhost:8080/",
          "height": 487
        },
        "id": "2lbm9p8Cbzd3",
        "outputId": "52c34746-ec89-49d0-bfac-d9f59d1d5991"
      },
      "execution_count": 12,
      "outputs": [
        {
          "output_type": "display_data",
          "data": {
            "text/plain": [
              "<Figure size 1200x500 with 1 Axes>"
            ],
            "image/png": "[encoded data removed]"
          },
          "metadata": {}
        }
      ]
    }
  ]
}